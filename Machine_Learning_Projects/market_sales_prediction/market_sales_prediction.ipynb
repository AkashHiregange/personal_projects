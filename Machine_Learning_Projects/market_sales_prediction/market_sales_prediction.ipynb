{
 "cells": [
  {
   "cell_type": "code",
   "execution_count": 1,
   "id": "b3fed1c9",
   "metadata": {},
   "outputs": [],
   "source": [
    "import numpy as np\n",
    "import pandas as pd\n",
    "import seaborn as sns\n",
    "import matplotlib.pyplot as plt"
   ]
  },
  {
   "cell_type": "code",
   "execution_count": 2,
   "id": "87fe5cdf",
   "metadata": {},
   "outputs": [],
   "source": [
    "from xgboost import XGBRegressor"
   ]
  },
  {
   "cell_type": "code",
   "execution_count": 3,
   "id": "02eb636c",
   "metadata": {},
   "outputs": [
    {
     "data": {
      "text/html": [
       "<div>\n",
       "<style scoped>\n",
       "    .dataframe tbody tr th:only-of-type {\n",
       "        vertical-align: middle;\n",
       "    }\n",
       "\n",
       "    .dataframe tbody tr th {\n",
       "        vertical-align: top;\n",
       "    }\n",
       "\n",
       "    .dataframe thead th {\n",
       "        text-align: right;\n",
       "    }\n",
       "</style>\n",
       "<table border=\"1\" class=\"dataframe\">\n",
       "  <thead>\n",
       "    <tr style=\"text-align: right;\">\n",
       "      <th></th>\n",
       "      <th>Item_Identifier</th>\n",
       "      <th>Item_Weight</th>\n",
       "      <th>Item_Fat_Content</th>\n",
       "      <th>Item_Visibility</th>\n",
       "      <th>Item_Type</th>\n",
       "      <th>Item_MRP</th>\n",
       "      <th>Outlet_Identifier</th>\n",
       "      <th>Outlet_Establishment_Year</th>\n",
       "      <th>Outlet_Size</th>\n",
       "      <th>Outlet_Location_Type</th>\n",
       "      <th>Outlet_Type</th>\n",
       "      <th>Item_Outlet_Sales</th>\n",
       "    </tr>\n",
       "  </thead>\n",
       "  <tbody>\n",
       "    <tr>\n",
       "      <th>0</th>\n",
       "      <td>FDA15</td>\n",
       "      <td>9.30</td>\n",
       "      <td>Low Fat</td>\n",
       "      <td>0.016047</td>\n",
       "      <td>Dairy</td>\n",
       "      <td>249.8092</td>\n",
       "      <td>OUT049</td>\n",
       "      <td>1999</td>\n",
       "      <td>Medium</td>\n",
       "      <td>Tier 1</td>\n",
       "      <td>Supermarket Type1</td>\n",
       "      <td>3735.1380</td>\n",
       "    </tr>\n",
       "    <tr>\n",
       "      <th>1</th>\n",
       "      <td>DRC01</td>\n",
       "      <td>5.92</td>\n",
       "      <td>Regular</td>\n",
       "      <td>0.019278</td>\n",
       "      <td>Soft Drinks</td>\n",
       "      <td>48.2692</td>\n",
       "      <td>OUT018</td>\n",
       "      <td>2009</td>\n",
       "      <td>Medium</td>\n",
       "      <td>Tier 3</td>\n",
       "      <td>Supermarket Type2</td>\n",
       "      <td>443.4228</td>\n",
       "    </tr>\n",
       "    <tr>\n",
       "      <th>2</th>\n",
       "      <td>FDN15</td>\n",
       "      <td>17.50</td>\n",
       "      <td>Low Fat</td>\n",
       "      <td>0.016760</td>\n",
       "      <td>Meat</td>\n",
       "      <td>141.6180</td>\n",
       "      <td>OUT049</td>\n",
       "      <td>1999</td>\n",
       "      <td>Medium</td>\n",
       "      <td>Tier 1</td>\n",
       "      <td>Supermarket Type1</td>\n",
       "      <td>2097.2700</td>\n",
       "    </tr>\n",
       "    <tr>\n",
       "      <th>3</th>\n",
       "      <td>FDX07</td>\n",
       "      <td>19.20</td>\n",
       "      <td>Regular</td>\n",
       "      <td>0.000000</td>\n",
       "      <td>Fruits and Vegetables</td>\n",
       "      <td>182.0950</td>\n",
       "      <td>OUT010</td>\n",
       "      <td>1998</td>\n",
       "      <td>NaN</td>\n",
       "      <td>Tier 3</td>\n",
       "      <td>Grocery Store</td>\n",
       "      <td>732.3800</td>\n",
       "    </tr>\n",
       "    <tr>\n",
       "      <th>4</th>\n",
       "      <td>NCD19</td>\n",
       "      <td>8.93</td>\n",
       "      <td>Low Fat</td>\n",
       "      <td>0.000000</td>\n",
       "      <td>Household</td>\n",
       "      <td>53.8614</td>\n",
       "      <td>OUT013</td>\n",
       "      <td>1987</td>\n",
       "      <td>High</td>\n",
       "      <td>Tier 3</td>\n",
       "      <td>Supermarket Type1</td>\n",
       "      <td>994.7052</td>\n",
       "    </tr>\n",
       "  </tbody>\n",
       "</table>\n",
       "</div>"
      ],
      "text/plain": [
       "  Item_Identifier  Item_Weight Item_Fat_Content  Item_Visibility  \\\n",
       "0           FDA15         9.30          Low Fat         0.016047   \n",
       "1           DRC01         5.92          Regular         0.019278   \n",
       "2           FDN15        17.50          Low Fat         0.016760   \n",
       "3           FDX07        19.20          Regular         0.000000   \n",
       "4           NCD19         8.93          Low Fat         0.000000   \n",
       "\n",
       "               Item_Type  Item_MRP Outlet_Identifier  \\\n",
       "0                  Dairy  249.8092            OUT049   \n",
       "1            Soft Drinks   48.2692            OUT018   \n",
       "2                   Meat  141.6180            OUT049   \n",
       "3  Fruits and Vegetables  182.0950            OUT010   \n",
       "4              Household   53.8614            OUT013   \n",
       "\n",
       "   Outlet_Establishment_Year Outlet_Size Outlet_Location_Type  \\\n",
       "0                       1999      Medium               Tier 1   \n",
       "1                       2009      Medium               Tier 3   \n",
       "2                       1999      Medium               Tier 1   \n",
       "3                       1998         NaN               Tier 3   \n",
       "4                       1987        High               Tier 3   \n",
       "\n",
       "         Outlet_Type  Item_Outlet_Sales  \n",
       "0  Supermarket Type1          3735.1380  \n",
       "1  Supermarket Type2           443.4228  \n",
       "2  Supermarket Type1          2097.2700  \n",
       "3      Grocery Store           732.3800  \n",
       "4  Supermarket Type1           994.7052  "
      ]
     },
     "execution_count": 3,
     "metadata": {},
     "output_type": "execute_result"
    }
   ],
   "source": [
    "sales_data = pd.read_csv('train.csv')\n",
    "sales_data.head()"
   ]
  },
  {
   "cell_type": "code",
   "execution_count": 4,
   "id": "ea85e3e2",
   "metadata": {},
   "outputs": [
    {
     "name": "stdout",
     "output_type": "stream",
     "text": [
      "<class 'pandas.core.frame.DataFrame'>\n",
      "RangeIndex: 8523 entries, 0 to 8522\n",
      "Data columns (total 12 columns):\n",
      " #   Column                     Non-Null Count  Dtype  \n",
      "---  ------                     --------------  -----  \n",
      " 0   Item_Identifier            8523 non-null   object \n",
      " 1   Item_Weight                7060 non-null   float64\n",
      " 2   Item_Fat_Content           8523 non-null   object \n",
      " 3   Item_Visibility            8523 non-null   float64\n",
      " 4   Item_Type                  8523 non-null   object \n",
      " 5   Item_MRP                   8523 non-null   float64\n",
      " 6   Outlet_Identifier          8523 non-null   object \n",
      " 7   Outlet_Establishment_Year  8523 non-null   int64  \n",
      " 8   Outlet_Size                6113 non-null   object \n",
      " 9   Outlet_Location_Type       8523 non-null   object \n",
      " 10  Outlet_Type                8523 non-null   object \n",
      " 11  Item_Outlet_Sales          8523 non-null   float64\n",
      "dtypes: float64(4), int64(1), object(7)\n",
      "memory usage: 799.2+ KB\n"
     ]
    }
   ],
   "source": [
    "sales_data.info()"
   ]
  },
  {
   "cell_type": "code",
   "execution_count": 5,
   "id": "e312f98b",
   "metadata": {},
   "outputs": [
    {
     "data": {
      "text/plain": [
       "Item_Identifier                 0\n",
       "Item_Weight                  1463\n",
       "Item_Fat_Content                0\n",
       "Item_Visibility                 0\n",
       "Item_Type                       0\n",
       "Item_MRP                        0\n",
       "Outlet_Identifier               0\n",
       "Outlet_Establishment_Year       0\n",
       "Outlet_Size                  2410\n",
       "Outlet_Location_Type            0\n",
       "Outlet_Type                     0\n",
       "Item_Outlet_Sales               0\n",
       "dtype: int64"
      ]
     },
     "execution_count": 5,
     "metadata": {},
     "output_type": "execute_result"
    }
   ],
   "source": [
    "sales_data.isnull().sum()"
   ]
  },
  {
   "cell_type": "markdown",
   "id": "dc836667",
   "metadata": {},
   "source": [
    "filling the null values in Item_weight column with mean values"
   ]
  },
  {
   "cell_type": "code",
   "execution_count": 6,
   "id": "86424c22",
   "metadata": {},
   "outputs": [
    {
     "data": {
      "text/plain": [
       "0"
      ]
     },
     "execution_count": 6,
     "metadata": {},
     "output_type": "execute_result"
    }
   ],
   "source": [
    "sales_data['Item_Weight'].fillna(sales_data['Item_Weight'].mean(), inplace=True)\n",
    "sales_data['Item_Weight'].isnull().sum()"
   ]
  },
  {
   "cell_type": "markdown",
   "id": "fb305731",
   "metadata": {},
   "source": [
    "__Replacing the missing values in Outlet_Size with mode. But the idea of replacing such value with mode is a bit tricky here.__   \n",
    "  \n",
    "The Outlet_Size indirectly depends on the Outlet_type. Hence, you cannot take the mode of the whole data and replace the missing values. In this case, you have to determine the mode of each Outlet_Size for each particular Outlet_type. The following code does that exactly."
   ]
  },
  {
   "cell_type": "code",
   "execution_count": 7,
   "id": "05efc9e4",
   "metadata": {},
   "outputs": [],
   "source": [
    "mode_of_outlet_size = sales_data.pivot_table(values='Outlet_Size', columns=['Outlet_Type'], aggfunc=(lambda x: x.mode()[0]))"
   ]
  },
  {
   "cell_type": "code",
   "execution_count": 8,
   "id": "5d5ecae2",
   "metadata": {
    "scrolled": true
   },
   "outputs": [
    {
     "data": {
      "text/html": [
       "<div>\n",
       "<style scoped>\n",
       "    .dataframe tbody tr th:only-of-type {\n",
       "        vertical-align: middle;\n",
       "    }\n",
       "\n",
       "    .dataframe tbody tr th {\n",
       "        vertical-align: top;\n",
       "    }\n",
       "\n",
       "    .dataframe thead th {\n",
       "        text-align: right;\n",
       "    }\n",
       "</style>\n",
       "<table border=\"1\" class=\"dataframe\">\n",
       "  <thead>\n",
       "    <tr style=\"text-align: right;\">\n",
       "      <th>Outlet_Type</th>\n",
       "      <th>Grocery Store</th>\n",
       "      <th>Supermarket Type1</th>\n",
       "      <th>Supermarket Type2</th>\n",
       "      <th>Supermarket Type3</th>\n",
       "    </tr>\n",
       "  </thead>\n",
       "  <tbody>\n",
       "    <tr>\n",
       "      <th>Outlet_Size</th>\n",
       "      <td>Small</td>\n",
       "      <td>Small</td>\n",
       "      <td>Medium</td>\n",
       "      <td>Medium</td>\n",
       "    </tr>\n",
       "  </tbody>\n",
       "</table>\n",
       "</div>"
      ],
      "text/plain": [
       "Outlet_Type Grocery Store Supermarket Type1 Supermarket Type2  \\\n",
       "Outlet_Size         Small             Small            Medium   \n",
       "\n",
       "Outlet_Type Supermarket Type3  \n",
       "Outlet_Size            Medium  "
      ]
     },
     "execution_count": 8,
     "metadata": {},
     "output_type": "execute_result"
    }
   ],
   "source": [
    "mode_of_outlet_size"
   ]
  },
  {
   "cell_type": "markdown",
   "id": "4b3f7c14",
   "metadata": {},
   "source": [
    "The above table shows the mode of _Outlet_Size_ for the respective _Outlet_Type_"
   ]
  },
  {
   "cell_type": "code",
   "execution_count": 9,
   "id": "f8457382",
   "metadata": {},
   "outputs": [
    {
     "data": {
      "text/plain": [
       "0       False\n",
       "1       False\n",
       "2       False\n",
       "3        True\n",
       "4       False\n",
       "        ...  \n",
       "8518    False\n",
       "8519     True\n",
       "8520    False\n",
       "8521    False\n",
       "8522    False\n",
       "Name: Outlet_Size, Length: 8523, dtype: bool"
      ]
     },
     "execution_count": 9,
     "metadata": {},
     "output_type": "execute_result"
    }
   ],
   "source": [
    "missing_values = sales_data['Outlet_Size'].isnull() ## extracting the missing values as boolean array\n",
    "missing_values"
   ]
  },
  {
   "cell_type": "code",
   "execution_count": 10,
   "id": "7d937333",
   "metadata": {},
   "outputs": [],
   "source": [
    "sales_data.loc[missing_values, 'Outlet_Size'] = sales_data.loc[missing_values, 'Outlet_Type'].apply(lambda x: mode_of_outlet_size[x])"
   ]
  },
  {
   "cell_type": "code",
   "execution_count": 11,
   "id": "aa573ab8",
   "metadata": {},
   "outputs": [
    {
     "data": {
      "text/plain": [
       "3       Small\n",
       "8       Small\n",
       "9       Small\n",
       "25      Small\n",
       "28      Small\n",
       "        ...  \n",
       "8502    Small\n",
       "8508    Small\n",
       "8509    Small\n",
       "8514    Small\n",
       "8519    Small\n",
       "Name: Outlet_Size, Length: 2410, dtype: object"
      ]
     },
     "execution_count": 11,
     "metadata": {},
     "output_type": "execute_result"
    }
   ],
   "source": [
    "sales_data.loc[missing_values, 'Outlet_Size']"
   ]
  },
  {
   "cell_type": "code",
   "execution_count": 12,
   "id": "132f7ae1",
   "metadata": {},
   "outputs": [
    {
     "data": {
      "text/plain": [
       "Item_Identifier              0\n",
       "Item_Weight                  0\n",
       "Item_Fat_Content             0\n",
       "Item_Visibility              0\n",
       "Item_Type                    0\n",
       "Item_MRP                     0\n",
       "Outlet_Identifier            0\n",
       "Outlet_Establishment_Year    0\n",
       "Outlet_Size                  0\n",
       "Outlet_Location_Type         0\n",
       "Outlet_Type                  0\n",
       "Item_Outlet_Sales            0\n",
       "dtype: int64"
      ]
     },
     "execution_count": 12,
     "metadata": {},
     "output_type": "execute_result"
    }
   ],
   "source": [
    "sales_data.isnull().sum()"
   ]
  },
  {
   "cell_type": "code",
   "execution_count": 13,
   "id": "3a88ea7b",
   "metadata": {},
   "outputs": [
    {
     "data": {
      "text/plain": [
       "Low Fat    5089\n",
       "Regular    2889\n",
       "LF          316\n",
       "reg         117\n",
       "low fat     112\n",
       "Name: Item_Fat_Content, dtype: int64"
      ]
     },
     "execution_count": 13,
     "metadata": {},
     "output_type": "execute_result"
    }
   ],
   "source": [
    "sales_data['Item_Fat_Content'].value_counts()"
   ]
  },
  {
   "cell_type": "code",
   "execution_count": 14,
   "id": "b55290f6",
   "metadata": {},
   "outputs": [
    {
     "data": {
      "text/plain": [
       "Low Fat    5517\n",
       "Regular    3006\n",
       "Name: Item_Fat_Content, dtype: int64"
      ]
     },
     "execution_count": 14,
     "metadata": {},
     "output_type": "execute_result"
    }
   ],
   "source": [
    "sales_data.replace({'Item_Fat_Content': {'LF':'Low Fat', 'low fat': 'Low Fat', 'reg':'Regular'}}, inplace=True)\n",
    "sales_data['Item_Fat_Content'].value_counts()"
   ]
  },
  {
   "cell_type": "code",
   "execution_count": 15,
   "id": "2e5903de",
   "metadata": {},
   "outputs": [
    {
     "data": {
      "text/html": [
       "<div>\n",
       "<style scoped>\n",
       "    .dataframe tbody tr th:only-of-type {\n",
       "        vertical-align: middle;\n",
       "    }\n",
       "\n",
       "    .dataframe tbody tr th {\n",
       "        vertical-align: top;\n",
       "    }\n",
       "\n",
       "    .dataframe thead th {\n",
       "        text-align: right;\n",
       "    }\n",
       "</style>\n",
       "<table border=\"1\" class=\"dataframe\">\n",
       "  <thead>\n",
       "    <tr style=\"text-align: right;\">\n",
       "      <th></th>\n",
       "      <th>Item_Identifier</th>\n",
       "      <th>Item_Weight</th>\n",
       "      <th>Item_Fat_Content</th>\n",
       "      <th>Item_Visibility</th>\n",
       "      <th>Item_Type</th>\n",
       "      <th>Item_MRP</th>\n",
       "      <th>Outlet_Identifier</th>\n",
       "      <th>Outlet_Establishment_Year</th>\n",
       "      <th>Outlet_Size</th>\n",
       "      <th>Outlet_Location_Type</th>\n",
       "      <th>Outlet_Type</th>\n",
       "      <th>Item_Outlet_Sales</th>\n",
       "    </tr>\n",
       "  </thead>\n",
       "  <tbody>\n",
       "    <tr>\n",
       "      <th>0</th>\n",
       "      <td>FD</td>\n",
       "      <td>9.30</td>\n",
       "      <td>Low Fat</td>\n",
       "      <td>0.016047</td>\n",
       "      <td>Dairy</td>\n",
       "      <td>249.8092</td>\n",
       "      <td>OUT049</td>\n",
       "      <td>1999</td>\n",
       "      <td>Medium</td>\n",
       "      <td>Tier 1</td>\n",
       "      <td>Supermarket Type1</td>\n",
       "      <td>3735.1380</td>\n",
       "    </tr>\n",
       "    <tr>\n",
       "      <th>1</th>\n",
       "      <td>DR</td>\n",
       "      <td>5.92</td>\n",
       "      <td>Regular</td>\n",
       "      <td>0.019278</td>\n",
       "      <td>Soft Drinks</td>\n",
       "      <td>48.2692</td>\n",
       "      <td>OUT018</td>\n",
       "      <td>2009</td>\n",
       "      <td>Medium</td>\n",
       "      <td>Tier 3</td>\n",
       "      <td>Supermarket Type2</td>\n",
       "      <td>443.4228</td>\n",
       "    </tr>\n",
       "    <tr>\n",
       "      <th>2</th>\n",
       "      <td>FD</td>\n",
       "      <td>17.50</td>\n",
       "      <td>Low Fat</td>\n",
       "      <td>0.016760</td>\n",
       "      <td>Meat</td>\n",
       "      <td>141.6180</td>\n",
       "      <td>OUT049</td>\n",
       "      <td>1999</td>\n",
       "      <td>Medium</td>\n",
       "      <td>Tier 1</td>\n",
       "      <td>Supermarket Type1</td>\n",
       "      <td>2097.2700</td>\n",
       "    </tr>\n",
       "    <tr>\n",
       "      <th>3</th>\n",
       "      <td>FD</td>\n",
       "      <td>19.20</td>\n",
       "      <td>Regular</td>\n",
       "      <td>0.000000</td>\n",
       "      <td>Fruits and Vegetables</td>\n",
       "      <td>182.0950</td>\n",
       "      <td>OUT010</td>\n",
       "      <td>1998</td>\n",
       "      <td>Small</td>\n",
       "      <td>Tier 3</td>\n",
       "      <td>Grocery Store</td>\n",
       "      <td>732.3800</td>\n",
       "    </tr>\n",
       "    <tr>\n",
       "      <th>4</th>\n",
       "      <td>NC</td>\n",
       "      <td>8.93</td>\n",
       "      <td>Low Fat</td>\n",
       "      <td>0.000000</td>\n",
       "      <td>Household</td>\n",
       "      <td>53.8614</td>\n",
       "      <td>OUT013</td>\n",
       "      <td>1987</td>\n",
       "      <td>High</td>\n",
       "      <td>Tier 3</td>\n",
       "      <td>Supermarket Type1</td>\n",
       "      <td>994.7052</td>\n",
       "    </tr>\n",
       "  </tbody>\n",
       "</table>\n",
       "</div>"
      ],
      "text/plain": [
       "  Item_Identifier  Item_Weight Item_Fat_Content  Item_Visibility  \\\n",
       "0              FD         9.30          Low Fat         0.016047   \n",
       "1              DR         5.92          Regular         0.019278   \n",
       "2              FD        17.50          Low Fat         0.016760   \n",
       "3              FD        19.20          Regular         0.000000   \n",
       "4              NC         8.93          Low Fat         0.000000   \n",
       "\n",
       "               Item_Type  Item_MRP Outlet_Identifier  \\\n",
       "0                  Dairy  249.8092            OUT049   \n",
       "1            Soft Drinks   48.2692            OUT018   \n",
       "2                   Meat  141.6180            OUT049   \n",
       "3  Fruits and Vegetables  182.0950            OUT010   \n",
       "4              Household   53.8614            OUT013   \n",
       "\n",
       "   Outlet_Establishment_Year Outlet_Size Outlet_Location_Type  \\\n",
       "0                       1999      Medium               Tier 1   \n",
       "1                       2009      Medium               Tier 3   \n",
       "2                       1999      Medium               Tier 1   \n",
       "3                       1998       Small               Tier 3   \n",
       "4                       1987        High               Tier 3   \n",
       "\n",
       "         Outlet_Type  Item_Outlet_Sales  \n",
       "0  Supermarket Type1          3735.1380  \n",
       "1  Supermarket Type2           443.4228  \n",
       "2  Supermarket Type1          2097.2700  \n",
       "3      Grocery Store           732.3800  \n",
       "4  Supermarket Type1           994.7052  "
      ]
     },
     "execution_count": 15,
     "metadata": {},
     "output_type": "execute_result"
    }
   ],
   "source": [
    "sales_data['Item_Identifier'] = sales_data['Item_Identifier'].apply(lambda x: x[:2])\n",
    "sales_data.head()"
   ]
  },
  {
   "cell_type": "markdown",
   "id": "113798dc",
   "metadata": {},
   "source": [
    "__DATA ANALYSIS USING PLOTS__"
   ]
  },
  {
   "cell_type": "markdown",
   "id": "fca02055",
   "metadata": {},
   "source": [
    "lets see the type of items in the dataset like dairy, vegetables, etc."
   ]
  },
  {
   "cell_type": "code",
   "execution_count": null,
   "id": "1ccc3248",
   "metadata": {},
   "outputs": [],
   "source": []
  },
  {
   "cell_type": "code",
   "execution_count": 16,
   "id": "c25c895f",
   "metadata": {},
   "outputs": [
    {
     "data": {
      "image/png": "[encoded data removed]",
      "text/plain": [
       "<Figure size 640x480 with 1 Axes>"
      ]
     },
     "metadata": {},
     "output_type": "display_data"
    }
   ],
   "source": [
    "fig = plt.figure()\n",
    "sns.histplot(sales_data[sales_data['Item_Fat_Content']=='Low Fat']['Item_Outlet_Sales'], color='green', label='Low Fat')\n",
    "sns.histplot(sales_data[sales_data['Item_Fat_Content']=='Regular']['Item_Outlet_Sales'], color='red', label='Regular Fat')\n",
    "plt.xlabel('Total sales')\n",
    "plt.legend()\n",
    "plt.show()\n",
    "fig.clear()"
   ]
  },
  {
   "cell_type": "markdown",
   "id": "ddd3eafe",
   "metadata": {},
   "source": [
    "### The plot looks fine, but it is important to note the data set classifies even non-consumable items as _Low Fat_. That is why the above plot is biased. So, before plotting the sales with the respect to fat content, let us first separate the dataset into consumables (that can be eaten) and non-consumables"
   ]
  },
  {
   "cell_type": "code",
   "execution_count": 17,
   "id": "fe3c4176",
   "metadata": {},
   "outputs": [
    {
     "data": {
      "text/plain": [
       "Fruits and Vegetables    1232\n",
       "Snack Foods              1200\n",
       "Household                 910\n",
       "Frozen Foods              856\n",
       "Dairy                     682\n",
       "Canned                    649\n",
       "Baking Goods              648\n",
       "Health and Hygiene        520\n",
       "Soft Drinks               445\n",
       "Meat                      425\n",
       "Breads                    251\n",
       "Hard Drinks               214\n",
       "Others                    169\n",
       "Starchy Foods             148\n",
       "Breakfast                 110\n",
       "Seafood                    64\n",
       "Name: Item_Type, dtype: int64"
      ]
     },
     "execution_count": 17,
     "metadata": {},
     "output_type": "execute_result"
    }
   ],
   "source": [
    "sales_data['Item_Type'].value_counts()"
   ]
  },
  {
   "cell_type": "code",
   "execution_count": 18,
   "id": "8ab0d56c",
   "metadata": {},
   "outputs": [
    {
     "data": {
      "text/html": [
       "<div>\n",
       "<style scoped>\n",
       "    .dataframe tbody tr th:only-of-type {\n",
       "        vertical-align: middle;\n",
       "    }\n",
       "\n",
       "    .dataframe tbody tr th {\n",
       "        vertical-align: top;\n",
       "    }\n",
       "\n",
       "    .dataframe thead th {\n",
       "        text-align: right;\n",
       "    }\n",
       "</style>\n",
       "<table border=\"1\" class=\"dataframe\">\n",
       "  <thead>\n",
       "    <tr style=\"text-align: right;\">\n",
       "      <th></th>\n",
       "      <th>Item_Identifier</th>\n",
       "      <th>Item_Weight</th>\n",
       "      <th>Item_Fat_Content</th>\n",
       "      <th>Item_Visibility</th>\n",
       "      <th>Item_Type</th>\n",
       "      <th>Item_MRP</th>\n",
       "      <th>Outlet_Identifier</th>\n",
       "      <th>Outlet_Establishment_Year</th>\n",
       "      <th>Outlet_Size</th>\n",
       "      <th>Outlet_Location_Type</th>\n",
       "      <th>Outlet_Type</th>\n",
       "      <th>Item_Outlet_Sales</th>\n",
       "    </tr>\n",
       "  </thead>\n",
       "  <tbody>\n",
       "    <tr>\n",
       "      <th>4</th>\n",
       "      <td>NC</td>\n",
       "      <td>8.930000</td>\n",
       "      <td>Low Fat</td>\n",
       "      <td>0.000000</td>\n",
       "      <td>Household</td>\n",
       "      <td>53.8614</td>\n",
       "      <td>OUT013</td>\n",
       "      <td>1987</td>\n",
       "      <td>High</td>\n",
       "      <td>Tier 3</td>\n",
       "      <td>Supermarket Type1</td>\n",
       "      <td>994.7052</td>\n",
       "    </tr>\n",
       "    <tr>\n",
       "      <th>16</th>\n",
       "      <td>NC</td>\n",
       "      <td>11.800000</td>\n",
       "      <td>Low Fat</td>\n",
       "      <td>0.008596</td>\n",
       "      <td>Health and Hygiene</td>\n",
       "      <td>115.3492</td>\n",
       "      <td>OUT018</td>\n",
       "      <td>2009</td>\n",
       "      <td>Medium</td>\n",
       "      <td>Tier 3</td>\n",
       "      <td>Supermarket Type2</td>\n",
       "      <td>1621.8888</td>\n",
       "    </tr>\n",
       "    <tr>\n",
       "      <th>22</th>\n",
       "      <td>NC</td>\n",
       "      <td>14.600000</td>\n",
       "      <td>Low Fat</td>\n",
       "      <td>0.025698</td>\n",
       "      <td>Household</td>\n",
       "      <td>196.5084</td>\n",
       "      <td>OUT035</td>\n",
       "      <td>2004</td>\n",
       "      <td>Small</td>\n",
       "      <td>Tier 2</td>\n",
       "      <td>Supermarket Type1</td>\n",
       "      <td>1587.2672</td>\n",
       "    </tr>\n",
       "    <tr>\n",
       "      <th>25</th>\n",
       "      <td>NC</td>\n",
       "      <td>13.000000</td>\n",
       "      <td>Low Fat</td>\n",
       "      <td>0.099887</td>\n",
       "      <td>Household</td>\n",
       "      <td>45.9060</td>\n",
       "      <td>OUT017</td>\n",
       "      <td>2007</td>\n",
       "      <td>Small</td>\n",
       "      <td>Tier 2</td>\n",
       "      <td>Supermarket Type1</td>\n",
       "      <td>838.9080</td>\n",
       "    </tr>\n",
       "    <tr>\n",
       "      <th>31</th>\n",
       "      <td>NC</td>\n",
       "      <td>18.600000</td>\n",
       "      <td>Low Fat</td>\n",
       "      <td>0.080829</td>\n",
       "      <td>Health and Hygiene</td>\n",
       "      <td>96.4436</td>\n",
       "      <td>OUT018</td>\n",
       "      <td>2009</td>\n",
       "      <td>Medium</td>\n",
       "      <td>Tier 3</td>\n",
       "      <td>Supermarket Type2</td>\n",
       "      <td>2741.7644</td>\n",
       "    </tr>\n",
       "    <tr>\n",
       "      <th>...</th>\n",
       "      <td>...</td>\n",
       "      <td>...</td>\n",
       "      <td>...</td>\n",
       "      <td>...</td>\n",
       "      <td>...</td>\n",
       "      <td>...</td>\n",
       "      <td>...</td>\n",
       "      <td>...</td>\n",
       "      <td>...</td>\n",
       "      <td>...</td>\n",
       "      <td>...</td>\n",
       "      <td>...</td>\n",
       "    </tr>\n",
       "    <tr>\n",
       "      <th>8500</th>\n",
       "      <td>NC</td>\n",
       "      <td>20.350000</td>\n",
       "      <td>Low Fat</td>\n",
       "      <td>0.000000</td>\n",
       "      <td>Household</td>\n",
       "      <td>125.1678</td>\n",
       "      <td>OUT017</td>\n",
       "      <td>2007</td>\n",
       "      <td>Small</td>\n",
       "      <td>Tier 2</td>\n",
       "      <td>Supermarket Type1</td>\n",
       "      <td>1907.5170</td>\n",
       "    </tr>\n",
       "    <tr>\n",
       "      <th>8502</th>\n",
       "      <td>NC</td>\n",
       "      <td>8.420000</td>\n",
       "      <td>Low Fat</td>\n",
       "      <td>0.070712</td>\n",
       "      <td>Household</td>\n",
       "      <td>216.4192</td>\n",
       "      <td>OUT045</td>\n",
       "      <td>2002</td>\n",
       "      <td>Small</td>\n",
       "      <td>Tier 2</td>\n",
       "      <td>Supermarket Type1</td>\n",
       "      <td>3020.0688</td>\n",
       "    </tr>\n",
       "    <tr>\n",
       "      <th>8504</th>\n",
       "      <td>NC</td>\n",
       "      <td>12.857645</td>\n",
       "      <td>Low Fat</td>\n",
       "      <td>0.124111</td>\n",
       "      <td>Household</td>\n",
       "      <td>111.7544</td>\n",
       "      <td>OUT027</td>\n",
       "      <td>1985</td>\n",
       "      <td>Medium</td>\n",
       "      <td>Tier 3</td>\n",
       "      <td>Supermarket Type3</td>\n",
       "      <td>4138.6128</td>\n",
       "    </tr>\n",
       "    <tr>\n",
       "      <th>8516</th>\n",
       "      <td>NC</td>\n",
       "      <td>18.600000</td>\n",
       "      <td>Low Fat</td>\n",
       "      <td>0.118661</td>\n",
       "      <td>Others</td>\n",
       "      <td>58.7588</td>\n",
       "      <td>OUT018</td>\n",
       "      <td>2009</td>\n",
       "      <td>Medium</td>\n",
       "      <td>Tier 3</td>\n",
       "      <td>Supermarket Type2</td>\n",
       "      <td>858.8820</td>\n",
       "    </tr>\n",
       "    <tr>\n",
       "      <th>8520</th>\n",
       "      <td>NC</td>\n",
       "      <td>10.600000</td>\n",
       "      <td>Low Fat</td>\n",
       "      <td>0.035186</td>\n",
       "      <td>Health and Hygiene</td>\n",
       "      <td>85.1224</td>\n",
       "      <td>OUT035</td>\n",
       "      <td>2004</td>\n",
       "      <td>Small</td>\n",
       "      <td>Tier 2</td>\n",
       "      <td>Supermarket Type1</td>\n",
       "      <td>1193.1136</td>\n",
       "    </tr>\n",
       "  </tbody>\n",
       "</table>\n",
       "<p>1599 rows × 12 columns</p>\n",
       "</div>"
      ],
      "text/plain": [
       "     Item_Identifier  Item_Weight Item_Fat_Content  Item_Visibility  \\\n",
       "4                 NC     8.930000          Low Fat         0.000000   \n",
       "16                NC    11.800000          Low Fat         0.008596   \n",
       "22                NC    14.600000          Low Fat         0.025698   \n",
       "25                NC    13.000000          Low Fat         0.099887   \n",
       "31                NC    18.600000          Low Fat         0.080829   \n",
       "...              ...          ...              ...              ...   \n",
       "8500              NC    20.350000          Low Fat         0.000000   \n",
       "8502              NC     8.420000          Low Fat         0.070712   \n",
       "8504              NC    12.857645          Low Fat         0.124111   \n",
       "8516              NC    18.600000          Low Fat         0.118661   \n",
       "8520              NC    10.600000          Low Fat         0.035186   \n",
       "\n",
       "               Item_Type  Item_MRP Outlet_Identifier  \\\n",
       "4              Household   53.8614            OUT013   \n",
       "16    Health and Hygiene  115.3492            OUT018   \n",
       "22             Household  196.5084            OUT035   \n",
       "25             Household   45.9060            OUT017   \n",
       "31    Health and Hygiene   96.4436            OUT018   \n",
       "...                  ...       ...               ...   \n",
       "8500           Household  125.1678            OUT017   \n",
       "8502           Household  216.4192            OUT045   \n",
       "8504           Household  111.7544            OUT027   \n",
       "8516              Others   58.7588            OUT018   \n",
       "8520  Health and Hygiene   85.1224            OUT035   \n",
       "\n",
       "      Outlet_Establishment_Year Outlet_Size Outlet_Location_Type  \\\n",
       "4                          1987        High               Tier 3   \n",
       "16                         2009      Medium               Tier 3   \n",
       "22                         2004       Small               Tier 2   \n",
       "25                         2007       Small               Tier 2   \n",
       "31                         2009      Medium               Tier 3   \n",
       "...                         ...         ...                  ...   \n",
       "8500                       2007       Small               Tier 2   \n",
       "8502                       2002       Small               Tier 2   \n",
       "8504                       1985      Medium               Tier 3   \n",
       "8516                       2009      Medium               Tier 3   \n",
       "8520                       2004       Small               Tier 2   \n",
       "\n",
       "            Outlet_Type  Item_Outlet_Sales  \n",
       "4     Supermarket Type1           994.7052  \n",
       "16    Supermarket Type2          1621.8888  \n",
       "22    Supermarket Type1          1587.2672  \n",
       "25    Supermarket Type1           838.9080  \n",
       "31    Supermarket Type2          2741.7644  \n",
       "...                 ...                ...  \n",
       "8500  Supermarket Type1          1907.5170  \n",
       "8502  Supermarket Type1          3020.0688  \n",
       "8504  Supermarket Type3          4138.6128  \n",
       "8516  Supermarket Type2           858.8820  \n",
       "8520  Supermarket Type1          1193.1136  \n",
       "\n",
       "[1599 rows x 12 columns]"
      ]
     },
     "execution_count": 18,
     "metadata": {},
     "output_type": "execute_result"
    }
   ],
   "source": [
    "consumables = sales_data[(sales_data['Item_Identifier'].str.startswith('FD')) | (sales_data['Item_Identifier'].str.startswith('DR'))]\n",
    "non_consumables = sales_data[(sales_data['Item_Identifier'].str.startswith('NC'))]\n",
    "non_consumables"
   ]
  },
  {
   "cell_type": "code",
   "execution_count": null,
   "id": "4c05ed30",
   "metadata": {},
   "outputs": [],
   "source": []
  },
  {
   "cell_type": "code",
   "execution_count": 19,
   "id": "992c618d",
   "metadata": {},
   "outputs": [
    {
     "data": {
      "image/png": "[encoded data removed]",
      "text/plain": [
       "<Figure size 640x480 with 1 Axes>"
      ]
     },
     "metadata": {},
     "output_type": "display_data"
    }
   ],
   "source": [
    "fig = plt.figure()\n",
    "sns.histplot(consumables[consumables['Item_Fat_Content']=='Low Fat']['Item_Outlet_Sales'], color='green', label='Low Fat')\n",
    "sns.histplot(consumables[consumables['Item_Fat_Content']=='Regular']['Item_Outlet_Sales'], color='red', label='Regular Fat')\n",
    "sns.histplot(non_consumables['Item_Outlet_Sales'], color='blue', label='Non consumable items')\n",
    "plt.xlabel('Total sales')\n",
    "plt.legend()\n",
    "plt.show()\n",
    "fig.clear()"
   ]
  },
  {
   "cell_type": "code",
   "execution_count": 20,
   "id": "81854684",
   "metadata": {},
   "outputs": [
    {
     "data": {
      "image/png": "[encoded data removed]",
      "text/plain": [
       "<Figure size 640x480 with 1 Axes>"
      ]
     },
     "metadata": {},
     "output_type": "display_data"
    }
   ],
   "source": [
    "fig = plt.figure()\n",
    "sns.kdeplot(data=consumables, x=\"Item_Outlet_Sales\", hue=\"Item_Fat_Content\", fill=True, alpha=0.6, linewidth=1.5)\n",
    "plt.xlabel('Total sales')\n",
    "# plt.legend()\n",
    "plt.show()\n",
    "fig.clear()\n"
   ]
  },
  {
   "cell_type": "markdown",
   "id": "c9261282",
   "metadata": {},
   "source": [
    "### This is much better. We can see that the low fat items perform slightly better at sales compared to regular fat items. Not suprising as everyone is trying to be healthy now a days and hence try to buy low fat."
   ]
  },
  {
   "cell_type": "code",
   "execution_count": 89,
   "id": "a2b842ab",
   "metadata": {},
   "outputs": [
    {
     "data": {
      "image/png": "[encoded data removed]",
      "text/plain": [
       "<Figure size 640x480 with 1 Axes>"
      ]
     },
     "metadata": {},
     "output_type": "display_data"
    }
   ],
   "source": [
    "fig = plt.figure()\n",
    "sns.kdeplot(data=consumables, x=\"Item_Outlet_Sales\", hue=\"Outlet_Identifier\", fill=True, alpha=0.6, linewidth=1.5)\n",
    "plt.xlabel('Total sales')\n",
    "# plt.legend()\n",
    "plt.show()\n",
    "fig.clear()"
   ]
  },
  {
   "cell_type": "markdown",
   "id": "e2fdf8f7",
   "metadata": {},
   "source": [
    "## _Correlation between the different columns and sales_"
   ]
  },
  {
   "cell_type": "code",
   "execution_count": 23,
   "id": "0807fbef",
   "metadata": {},
   "outputs": [
    {
     "data": {
      "text/html": [
       "<div>\n",
       "<style scoped>\n",
       "    .dataframe tbody tr th:only-of-type {\n",
       "        vertical-align: middle;\n",
       "    }\n",
       "\n",
       "    .dataframe tbody tr th {\n",
       "        vertical-align: top;\n",
       "    }\n",
       "\n",
       "    .dataframe thead th {\n",
       "        text-align: right;\n",
       "    }\n",
       "</style>\n",
       "<table border=\"1\" class=\"dataframe\">\n",
       "  <thead>\n",
       "    <tr style=\"text-align: right;\">\n",
       "      <th></th>\n",
       "      <th>index</th>\n",
       "      <th>Item_Outlet_Sales</th>\n",
       "    </tr>\n",
       "  </thead>\n",
       "  <tbody>\n",
       "    <tr>\n",
       "      <th>0</th>\n",
       "      <td>Item_Weight</td>\n",
       "      <td>0.011550</td>\n",
       "    </tr>\n",
       "    <tr>\n",
       "      <th>1</th>\n",
       "      <td>Item_Visibility</td>\n",
       "      <td>-0.128625</td>\n",
       "    </tr>\n",
       "    <tr>\n",
       "      <th>2</th>\n",
       "      <td>Item_MRP</td>\n",
       "      <td>0.567574</td>\n",
       "    </tr>\n",
       "    <tr>\n",
       "      <th>3</th>\n",
       "      <td>Outlet_Establishment_Year</td>\n",
       "      <td>-0.049135</td>\n",
       "    </tr>\n",
       "    <tr>\n",
       "      <th>4</th>\n",
       "      <td>Item_Outlet_Sales</td>\n",
       "      <td>1.000000</td>\n",
       "    </tr>\n",
       "  </tbody>\n",
       "</table>\n",
       "</div>"
      ],
      "text/plain": [
       "                       index  Item_Outlet_Sales\n",
       "0                Item_Weight           0.011550\n",
       "1            Item_Visibility          -0.128625\n",
       "2                   Item_MRP           0.567574\n",
       "3  Outlet_Establishment_Year          -0.049135\n",
       "4          Item_Outlet_Sales           1.000000"
      ]
     },
     "execution_count": 23,
     "metadata": {},
     "output_type": "execute_result"
    }
   ],
   "source": [
    "sales_data.corr(numeric_only=True)['Item_Outlet_Sales'].reset_index()"
   ]
  },
  {
   "cell_type": "code",
   "execution_count": null,
   "id": "aa741a8d",
   "metadata": {},
   "outputs": [],
   "source": [
    "f = plt.figure(figsize=(19, 15))\n",
    "# plt.imshow()\n",
    "plt.matshow(sales_data.corr(), fignum=f.number, cmap='Blues')\n",
    "plt.xticks(range(sales_data.select_dtypes(['number']).shape[1]), sales_data.select_dtypes(['number']).columns, fontsize=14, rotation=45)\n",
    "plt.yticks(range(sales_data.select_dtypes(['number']).shape[1]), sales_data.select_dtypes(['number']).columns, fontsize=14)\n",
    "cb = plt.colorbar()\n",
    "cb.ax.tick_params(labelsize=14)\n",
    "plt.title('Correlation Matrix', fontsize=16);"
   ]
  },
  {
   "cell_type": "code",
   "execution_count": 20,
   "id": "860716fb",
   "metadata": {},
   "outputs": [
    {
     "data": {
      "text/plain": [
       "OUT027    935\n",
       "OUT013    932\n",
       "OUT049    930\n",
       "OUT046    930\n",
       "OUT035    930\n",
       "OUT045    929\n",
       "OUT018    928\n",
       "OUT017    926\n",
       "OUT010    555\n",
       "OUT019    528\n",
       "Name: Outlet_Identifier, dtype: int64"
      ]
     },
     "execution_count": 20,
     "metadata": {},
     "output_type": "execute_result"
    }
   ],
   "source": [
    "sales_data['Outlet_Identifier'].value_counts()"
   ]
  },
  {
   "cell_type": "code",
   "execution_count": 87,
   "id": "60c7f7c7",
   "metadata": {},
   "outputs": [
    {
     "data": {
      "image/png": "[encoded data removed]",
      "text/plain": [
       "<Figure size 640x480 with 1 Axes>"
      ]
     },
     "metadata": {},
     "output_type": "display_data"
    }
   ],
   "source": [
    "fig = plt.figure()\n",
    "sns.countplot(data=sales_data, x=\"Outlet_Identifier\", hue='Outlet_Size')\n",
    "plt.xlabel('Outlet identification')\n",
    "plt.legend()\n",
    "plt.xticks(rotation=90)\n",
    "plt.show()\n",
    "fig.clear()"
   ]
  },
  {
   "cell_type": "code",
   "execution_count": 88,
   "id": "958619bf",
   "metadata": {},
   "outputs": [
    {
     "data": {
      "image/png": "[encoded data removed]",
      "text/plain": [
       "<Figure size 640x480 with 1 Axes>"
      ]
     },
     "metadata": {},
     "output_type": "display_data"
    }
   ],
   "source": [
    "fig = plt.figure()\n",
    "sns.countplot(data=sales_data, x=\"Outlet_Identifier\", hue='Outlet_Location_Type')\n",
    "plt.xlabel('Outlet identification')\n",
    "plt.legend()\n",
    "plt.xticks(rotation=90)\n",
    "plt.show()\n",
    "fig.clear()"
   ]
  },
  {
   "cell_type": "code",
   "execution_count": null,
   "id": "e259d3d8",
   "metadata": {},
   "outputs": [],
   "source": []
  },
  {
   "cell_type": "code",
   "execution_count": null,
   "id": "94331d0d",
   "metadata": {},
   "outputs": [],
   "source": []
  },
  {
   "cell_type": "code",
   "execution_count": 23,
   "id": "a328efc9",
   "metadata": {
    "scrolled": true
   },
   "outputs": [
    {
     "data": {
      "text/plain": [
       "Small     4798\n",
       "Medium    2793\n",
       "High       932\n",
       "Name: Outlet_Size, dtype: int64"
      ]
     },
     "execution_count": 23,
     "metadata": {},
     "output_type": "execute_result"
    }
   ],
   "source": [
    "sales_data['Outlet_Size'].value_counts()"
   ]
  },
  {
   "cell_type": "code",
   "execution_count": 34,
   "id": "286bbf89",
   "metadata": {},
   "outputs": [
    {
     "data": {
      "text/html": [
       "<div>\n",
       "<style scoped>\n",
       "    .dataframe tbody tr th:only-of-type {\n",
       "        vertical-align: middle;\n",
       "    }\n",
       "\n",
       "    .dataframe tbody tr th {\n",
       "        vertical-align: top;\n",
       "    }\n",
       "\n",
       "    .dataframe thead th {\n",
       "        text-align: right;\n",
       "    }\n",
       "</style>\n",
       "<table border=\"1\" class=\"dataframe\">\n",
       "  <thead>\n",
       "    <tr style=\"text-align: right;\">\n",
       "      <th></th>\n",
       "      <th>Supermarket Size</th>\n",
       "      <th>Average Total Sales</th>\n",
       "    </tr>\n",
       "  </thead>\n",
       "  <tbody>\n",
       "    <tr>\n",
       "      <th>0</th>\n",
       "      <td>High</td>\n",
       "      <td>2298.995256</td>\n",
       "    </tr>\n",
       "    <tr>\n",
       "      <th>1</th>\n",
       "      <td>Medium</td>\n",
       "      <td>2681.603542</td>\n",
       "    </tr>\n",
       "    <tr>\n",
       "      <th>2</th>\n",
       "      <td>Small</td>\n",
       "      <td>1867.182814</td>\n",
       "    </tr>\n",
       "  </tbody>\n",
       "</table>\n",
       "</div>"
      ],
      "text/plain": [
       "  Supermarket Size  Average Total Sales\n",
       "0             High          2298.995256\n",
       "1           Medium          2681.603542\n",
       "2            Small          1867.182814"
      ]
     },
     "execution_count": 34,
     "metadata": {},
     "output_type": "execute_result"
    }
   ],
   "source": [
    "sales_mean_by_size = sales_data.groupby('Outlet_Size')['Item_Outlet_Sales'].mean().reset_index()\n",
    "\n",
    "# Optional: Rename columns for better readability\n",
    "sales_mean_by_size.columns = ['Supermarket Size', 'Average Total Sales']\n",
    "sales_mean_by_size"
   ]
  },
  {
   "cell_type": "code",
   "execution_count": 30,
   "id": "719929f2",
   "metadata": {},
   "outputs": [
    {
     "data": {
      "image/png": "[encoded data removed]",
      "text/plain": [
       "<Figure size 640x480 with 1 Axes>"
      ]
     },
     "metadata": {},
     "output_type": "display_data"
    }
   ],
   "source": [
    "fig = plt.figure()\n",
    "sns.barplot(x=\"Supermarket Size\", y='Average Total Sales',data=sales_mean_by_size)\n",
    "plt.xlabel('Supermarket size')\n",
    "plt.ylabel('Average total sales')\n",
    "# plt.legend()\n",
    "plt.xticks(rotation=90)\n",
    "plt.show()\n",
    "fig.clear()"
   ]
  },
  {
   "cell_type": "code",
   "execution_count": null,
   "id": "ced33817",
   "metadata": {},
   "outputs": [],
   "source": []
  },
  {
   "cell_type": "code",
   "execution_count": 36,
   "id": "e3e9ff53",
   "metadata": {},
   "outputs": [
    {
     "data": {
      "image/png": "[encoded data removed]",
      "text/plain": [
       "<Figure size 640x480 with 1 Axes>"
      ]
     },
     "metadata": {},
     "output_type": "display_data"
    }
   ],
   "source": [
    "fig = plt.figure()\n",
    "sns.countplot(data=consumables, x=\"Outlet_Identifier\")\n",
    "plt.xlabel('Outlet identification')\n",
    "# plt.legend()\n",
    "plt.xticks(rotation=90)\n",
    "plt.show()\n",
    "fig.clear()"
   ]
  },
  {
   "cell_type": "code",
   "execution_count": 28,
   "id": "37b8fc59",
   "metadata": {},
   "outputs": [
    {
     "data": {
      "text/html": [
       "<div>\n",
       "<style scoped>\n",
       "    .dataframe tbody tr th:only-of-type {\n",
       "        vertical-align: middle;\n",
       "    }\n",
       "\n",
       "    .dataframe tbody tr th {\n",
       "        vertical-align: top;\n",
       "    }\n",
       "\n",
       "    .dataframe thead th {\n",
       "        text-align: right;\n",
       "    }\n",
       "</style>\n",
       "<table border=\"1\" class=\"dataframe\">\n",
       "  <thead>\n",
       "    <tr style=\"text-align: right;\">\n",
       "      <th></th>\n",
       "      <th>Outlet ID</th>\n",
       "      <th>Average Sales</th>\n",
       "    </tr>\n",
       "  </thead>\n",
       "  <tbody>\n",
       "    <tr>\n",
       "      <th>5</th>\n",
       "      <td>OUT027</td>\n",
       "      <td>3694.038558</td>\n",
       "    </tr>\n",
       "    <tr>\n",
       "      <th>6</th>\n",
       "      <td>OUT035</td>\n",
       "      <td>2438.841866</td>\n",
       "    </tr>\n",
       "    <tr>\n",
       "      <th>9</th>\n",
       "      <td>OUT049</td>\n",
       "      <td>2348.354635</td>\n",
       "    </tr>\n",
       "    <tr>\n",
       "      <th>2</th>\n",
       "      <td>OUT017</td>\n",
       "      <td>2340.675263</td>\n",
       "    </tr>\n",
       "    <tr>\n",
       "      <th>1</th>\n",
       "      <td>OUT013</td>\n",
       "      <td>2298.995256</td>\n",
       "    </tr>\n",
       "    <tr>\n",
       "      <th>8</th>\n",
       "      <td>OUT046</td>\n",
       "      <td>2277.844267</td>\n",
       "    </tr>\n",
       "    <tr>\n",
       "      <th>7</th>\n",
       "      <td>OUT045</td>\n",
       "      <td>2192.384798</td>\n",
       "    </tr>\n",
       "    <tr>\n",
       "      <th>3</th>\n",
       "      <td>OUT018</td>\n",
       "      <td>1995.498739</td>\n",
       "    </tr>\n",
       "    <tr>\n",
       "      <th>4</th>\n",
       "      <td>OUT019</td>\n",
       "      <td>340.329723</td>\n",
       "    </tr>\n",
       "    <tr>\n",
       "      <th>0</th>\n",
       "      <td>OUT010</td>\n",
       "      <td>339.351662</td>\n",
       "    </tr>\n",
       "  </tbody>\n",
       "</table>\n",
       "</div>"
      ],
      "text/plain": [
       "  Outlet ID  Average Sales\n",
       "5    OUT027    3694.038558\n",
       "6    OUT035    2438.841866\n",
       "9    OUT049    2348.354635\n",
       "2    OUT017    2340.675263\n",
       "1    OUT013    2298.995256\n",
       "8    OUT046    2277.844267\n",
       "7    OUT045    2192.384798\n",
       "3    OUT018    1995.498739\n",
       "4    OUT019     340.329723\n",
       "0    OUT010     339.351662"
      ]
     },
     "execution_count": 28,
     "metadata": {},
     "output_type": "execute_result"
    }
   ],
   "source": [
    "sales_mean_by_outlet = sales_data.groupby('Outlet_Identifier')['Item_Outlet_Sales'].mean().reset_index()\n",
    "\n",
    "# Optional: Rename columns for better readability\n",
    "sales_mean_by_outlet.columns = ['Outlet ID', 'Average Sales']\n",
    "sales_mean_by_outlet = sales_mean_by_outlet.sort_values(by='Average Sales', ascending = False)\n",
    "sales_mean_by_outlet"
   ]
  },
  {
   "cell_type": "code",
   "execution_count": 35,
   "id": "84962d79",
   "metadata": {},
   "outputs": [
    {
     "data": {
      "image/png": "[encoded data removed]",
      "text/plain": [
       "<Figure size 640x480 with 1 Axes>"
      ]
     },
     "metadata": {},
     "output_type": "display_data"
    }
   ],
   "source": [
    "fig = plt.figure()\n",
    "sns.barplot(x=\"Outlet ID\", y='Average Sales',data=sales_mean_by_outlet)\n",
    "plt.xlabel('Outlet ID')\n",
    "plt.ylabel('Average total sales')\n",
    "# plt.legend()\n",
    "plt.xticks(rotation=90)\n",
    "plt.show()\n",
    "fig.clear()"
   ]
  },
  {
   "cell_type": "code",
   "execution_count": null,
   "id": "bdf16eaf",
   "metadata": {},
   "outputs": [],
   "source": []
  },
  {
   "cell_type": "code",
   "execution_count": 68,
   "id": "3439df4c",
   "metadata": {},
   "outputs": [
    {
     "data": {
      "text/plain": [
       "Outlet_Identifier  Outlet_Size\n",
       "OUT010             Small          555\n",
       "OUT013             High           932\n",
       "OUT017             Small          926\n",
       "OUT018             Medium         928\n",
       "OUT019             Small          528\n",
       "OUT027             Medium         935\n",
       "OUT035             Small          930\n",
       "OUT045             Small          929\n",
       "OUT046             Small          930\n",
       "OUT049             Medium         930\n",
       "dtype: int64"
      ]
     },
     "execution_count": 68,
     "metadata": {},
     "output_type": "execute_result"
    }
   ],
   "source": [
    "sales_data.groupby(['Outlet_Identifier', 'Outlet_Size']).size()"
   ]
  },
  {
   "cell_type": "code",
   "execution_count": null,
   "id": "bfafa4e8",
   "metadata": {},
   "outputs": [],
   "source": []
  },
  {
   "cell_type": "code",
   "execution_count": null,
   "id": "de05cb08",
   "metadata": {},
   "outputs": [],
   "source": []
  },
  {
   "cell_type": "code",
   "execution_count": null,
   "id": "dbd4b4ef",
   "metadata": {},
   "outputs": [],
   "source": []
  },
  {
   "cell_type": "code",
   "execution_count": 81,
   "id": "c91d9b65",
   "metadata": {},
   "outputs": [
    {
     "data": {
      "text/html": [
       "<div>\n",
       "<style scoped>\n",
       "    .dataframe tbody tr th:only-of-type {\n",
       "        vertical-align: middle;\n",
       "    }\n",
       "\n",
       "    .dataframe tbody tr th {\n",
       "        vertical-align: top;\n",
       "    }\n",
       "\n",
       "    .dataframe thead th {\n",
       "        text-align: right;\n",
       "    }\n",
       "</style>\n",
       "<table border=\"1\" class=\"dataframe\">\n",
       "  <thead>\n",
       "    <tr style=\"text-align: right;\">\n",
       "      <th></th>\n",
       "      <th>Outlet ID</th>\n",
       "      <th>Outlet Size</th>\n",
       "      <th>Outlet Location</th>\n",
       "      <th>Average Sales</th>\n",
       "    </tr>\n",
       "  </thead>\n",
       "  <tbody>\n",
       "    <tr>\n",
       "      <th>5</th>\n",
       "      <td>OUT027</td>\n",
       "      <td>Medium</td>\n",
       "      <td>Tier 3</td>\n",
       "      <td>3694.038558</td>\n",
       "    </tr>\n",
       "    <tr>\n",
       "      <th>6</th>\n",
       "      <td>OUT035</td>\n",
       "      <td>Small</td>\n",
       "      <td>Tier 2</td>\n",
       "      <td>2438.841866</td>\n",
       "    </tr>\n",
       "    <tr>\n",
       "      <th>9</th>\n",
       "      <td>OUT049</td>\n",
       "      <td>Medium</td>\n",
       "      <td>Tier 1</td>\n",
       "      <td>2348.354635</td>\n",
       "    </tr>\n",
       "    <tr>\n",
       "      <th>2</th>\n",
       "      <td>OUT017</td>\n",
       "      <td>Small</td>\n",
       "      <td>Tier 2</td>\n",
       "      <td>2340.675263</td>\n",
       "    </tr>\n",
       "    <tr>\n",
       "      <th>1</th>\n",
       "      <td>OUT013</td>\n",
       "      <td>High</td>\n",
       "      <td>Tier 3</td>\n",
       "      <td>2298.995256</td>\n",
       "    </tr>\n",
       "    <tr>\n",
       "      <th>8</th>\n",
       "      <td>OUT046</td>\n",
       "      <td>Small</td>\n",
       "      <td>Tier 1</td>\n",
       "      <td>2277.844267</td>\n",
       "    </tr>\n",
       "    <tr>\n",
       "      <th>7</th>\n",
       "      <td>OUT045</td>\n",
       "      <td>Small</td>\n",
       "      <td>Tier 2</td>\n",
       "      <td>2192.384798</td>\n",
       "    </tr>\n",
       "    <tr>\n",
       "      <th>3</th>\n",
       "      <td>OUT018</td>\n",
       "      <td>Medium</td>\n",
       "      <td>Tier 3</td>\n",
       "      <td>1995.498739</td>\n",
       "    </tr>\n",
       "    <tr>\n",
       "      <th>4</th>\n",
       "      <td>OUT019</td>\n",
       "      <td>Small</td>\n",
       "      <td>Tier 1</td>\n",
       "      <td>340.329723</td>\n",
       "    </tr>\n",
       "    <tr>\n",
       "      <th>0</th>\n",
       "      <td>OUT010</td>\n",
       "      <td>Small</td>\n",
       "      <td>Tier 3</td>\n",
       "      <td>339.351662</td>\n",
       "    </tr>\n",
       "  </tbody>\n",
       "</table>\n",
       "</div>"
      ],
      "text/plain": [
       "  Outlet ID Outlet Size Outlet Location  Average Sales\n",
       "5    OUT027      Medium          Tier 3    3694.038558\n",
       "6    OUT035       Small          Tier 2    2438.841866\n",
       "9    OUT049      Medium          Tier 1    2348.354635\n",
       "2    OUT017       Small          Tier 2    2340.675263\n",
       "1    OUT013        High          Tier 3    2298.995256\n",
       "8    OUT046       Small          Tier 1    2277.844267\n",
       "7    OUT045       Small          Tier 2    2192.384798\n",
       "3    OUT018      Medium          Tier 3    1995.498739\n",
       "4    OUT019       Small          Tier 1     340.329723\n",
       "0    OUT010       Small          Tier 3     339.351662"
      ]
     },
     "execution_count": 81,
     "metadata": {},
     "output_type": "execute_result"
    }
   ],
   "source": [
    "sales_mean_by_outlet_and_size = sales_data.groupby(['Outlet_Identifier', 'Outlet_Size', 'Outlet_Location_Type'])['Item_Outlet_Sales'].mean().reset_index()\n",
    "\n",
    "# Optional: Rename columns for better readability\n",
    "sales_mean_by_outlet_and_size.columns = ['Outlet ID', 'Outlet Size','Outlet Location','Average Sales']\n",
    "sales_mean_by_outlet_and_size = sales_mean_by_outlet_and_size.sort_values(by='Average Sales', ascending = False)\n",
    "sales_mean_by_outlet_and_size"
   ]
  },
  {
   "cell_type": "code",
   "execution_count": 82,
   "id": "352f6bf0",
   "metadata": {},
   "outputs": [
    {
     "data": {
      "image/png": "[encoded data removed]",
      "text/plain": [
       "<Figure size 640x480 with 1 Axes>"
      ]
     },
     "metadata": {},
     "output_type": "display_data"
    }
   ],
   "source": [
    "fig = plt.figure()\n",
    "sns.barplot(x=\"Outlet ID\", y='Average Sales',data=sales_mean_by_outlet_and_size, hue='Outlet Size')\n",
    "plt.xlabel('Outlet ID')\n",
    "plt.ylabel('Average total sales')\n",
    "# plt.legend()\n",
    "plt.xticks(rotation=90)\n",
    "plt.show()\n",
    "fig.clear()"
   ]
  },
  {
   "cell_type": "code",
   "execution_count": 83,
   "id": "5518bb6d",
   "metadata": {},
   "outputs": [
    {
     "data": {
      "image/png": "[encoded data removed]",
      "text/plain": [
       "<Figure size 640x480 with 1 Axes>"
      ]
     },
     "metadata": {},
     "output_type": "display_data"
    }
   ],
   "source": [
    "fig = plt.figure()\n",
    "sns.barplot(x=\"Outlet ID\", y='Average Sales',data=sales_mean_by_outlet_and_size, hue='Outlet Location')\n",
    "plt.xlabel('Outlet ID')\n",
    "plt.ylabel('Average total sales')\n",
    "# plt.legend()\n",
    "plt.xticks(rotation=90)\n",
    "plt.show()\n",
    "fig.clear()"
   ]
  },
  {
   "cell_type": "code",
   "execution_count": null,
   "id": "eda7617c",
   "metadata": {},
   "outputs": [],
   "source": []
  },
  {
   "cell_type": "markdown",
   "id": "9d1b4709",
   "metadata": {},
   "source": [
    "## __DATA PREPROCESSING AND MODEL BUILDING__"
   ]
  },
  {
   "cell_type": "code",
   "execution_count": 47,
   "id": "c48b1ea2",
   "metadata": {},
   "outputs": [
    {
     "name": "stdout",
     "output_type": "stream",
     "text": [
      "<class 'pandas.core.frame.DataFrame'>\n",
      "RangeIndex: 8523 entries, 0 to 8522\n",
      "Data columns (total 12 columns):\n",
      " #   Column                     Non-Null Count  Dtype  \n",
      "---  ------                     --------------  -----  \n",
      " 0   Item_Identifier            8523 non-null   object \n",
      " 1   Item_Weight                8523 non-null   float64\n",
      " 2   Item_Fat_Content           8523 non-null   object \n",
      " 3   Item_Visibility            8523 non-null   float64\n",
      " 4   Item_Type                  8523 non-null   object \n",
      " 5   Item_MRP                   8523 non-null   float64\n",
      " 6   Outlet_Identifier          8523 non-null   object \n",
      " 7   Outlet_Establishment_Year  8523 non-null   int64  \n",
      " 8   Outlet_Size                8523 non-null   object \n",
      " 9   Outlet_Location_Type       8523 non-null   object \n",
      " 10  Outlet_Type                8523 non-null   object \n",
      " 11  Item_Outlet_Sales          8523 non-null   float64\n",
      "dtypes: float64(4), int64(1), object(7)\n",
      "memory usage: 799.2+ KB\n"
     ]
    }
   ],
   "source": [
    "from sklearn.preprocessing import LabelEncoder, PolynomialFeatures\n",
    "encoder = LabelEncoder()\n",
    "sales_data.info()"
   ]
  },
  {
   "cell_type": "code",
   "execution_count": 50,
   "id": "dae468fe",
   "metadata": {},
   "outputs": [],
   "source": [
    "classified_columns = ['Item_Identifier', 'Item_Fat_Content', 'Item_Type','Outlet_Identifier','Outlet_Size','Outlet_Location_Type','Outlet_Type']\n",
    "for columns in classified_columns:\n",
    "    sales_data[columns] = encoder.fit_transform(sales_data[columns])"
   ]
  },
  {
   "cell_type": "code",
   "execution_count": 51,
   "id": "50b73aa4",
   "metadata": {},
   "outputs": [
    {
     "name": "stdout",
     "output_type": "stream",
     "text": [
      "<class 'pandas.core.frame.DataFrame'>\n",
      "RangeIndex: 8523 entries, 0 to 8522\n",
      "Data columns (total 12 columns):\n",
      " #   Column                     Non-Null Count  Dtype  \n",
      "---  ------                     --------------  -----  \n",
      " 0   Item_Identifier            8523 non-null   int32  \n",
      " 1   Item_Weight                8523 non-null   float64\n",
      " 2   Item_Fat_Content           8523 non-null   int64  \n",
      " 3   Item_Visibility            8523 non-null   float64\n",
      " 4   Item_Type                  8523 non-null   int64  \n",
      " 5   Item_MRP                   8523 non-null   float64\n",
      " 6   Outlet_Identifier          8523 non-null   int64  \n",
      " 7   Outlet_Establishment_Year  8523 non-null   int64  \n",
      " 8   Outlet_Size                8523 non-null   int64  \n",
      " 9   Outlet_Location_Type       8523 non-null   int64  \n",
      " 10  Outlet_Type                8523 non-null   int64  \n",
      " 11  Item_Outlet_Sales          8523 non-null   float64\n",
      "dtypes: float64(4), int32(1), int64(7)\n",
      "memory usage: 765.9 KB\n",
      "None\n"
     ]
    }
   ],
   "source": [
    "sales_data.head()\n",
    "print(sales_data.info())"
   ]
  },
  {
   "cell_type": "code",
   "execution_count": 52,
   "id": "34063ffb",
   "metadata": {},
   "outputs": [],
   "source": [
    "X = sales_data.drop(columns=['Item_Identifier', 'Item_Outlet_Sales'])\n",
    "y = sales_data['Item_Outlet_Sales']"
   ]
  },
  {
   "cell_type": "code",
   "execution_count": 53,
   "id": "dfd82857",
   "metadata": {},
   "outputs": [],
   "source": [
    "from sklearn.model_selection import train_test_split\n",
    "from sklearn.metrics import mean_absolute_error, mean_squared_error, r2_score, make_scorer\n",
    "X_train, X_test, y_train, y_test = train_test_split(X, y, test_size=0.2, random_state=22)"
   ]
  },
  {
   "cell_type": "markdown",
   "id": "1d4f1591",
   "metadata": {},
   "source": [
    "#### Lets import all possible regression models and create their corresponding objects. The idea is that we will first test all the models to see which one preforms the best. Once we have done that, we can start tuning the hypermeters for the top 3 best models using the Cross-Validation techinque."
   ]
  },
  {
   "cell_type": "code",
   "execution_count": 54,
   "id": "791ac051",
   "metadata": {},
   "outputs": [],
   "source": [
    "from sklearn.linear_model import LinearRegression, Ridge, Lasso, BayesianRidge\n",
    "from sklearn.tree import DecisionTreeRegressor\n",
    "from sklearn.ensemble import RandomForestRegressor, GradientBoostingRegressor\n",
    "from sklearn.svm import SVR\n",
    "from sklearn.neighbors import KNeighborsRegressor\n",
    "from sklearn.kernel_ridge import KernelRidge\n",
    "from sklearn.model_selection import KFold, cross_val_predict, cross_val_score, cross_validate"
   ]
  },
  {
   "cell_type": "code",
   "execution_count": 55,
   "id": "c5e085c4",
   "metadata": {},
   "outputs": [],
   "source": [
    "lr = LinearRegression()\n",
    "ridge = Ridge()\n",
    "lasso = Lasso()\n",
    "bayesianreg = BayesianRidge()\n",
    "dtreg = DecisionTreeRegressor()\n",
    "rfreg = RandomForestRegressor()\n",
    "gbreg = GradientBoostingRegressor()\n",
    "xgbreg = XGBRegressor()\n",
    "svr = SVR()\n",
    "knnreg = KNeighborsRegressor()\n",
    "kernelreg = KernelRidge()"
   ]
  },
  {
   "cell_type": "markdown",
   "id": "db1c9b44",
   "metadata": {},
   "source": [
    "__Training all the model with default parameters and observing which one of them performs the best on the test set__"
   ]
  },
  {
   "cell_type": "code",
   "execution_count": 57,
   "id": "679a9906",
   "metadata": {},
   "outputs": [],
   "source": [
    "model_dict = {'Linear_Regression': lr, 'Ridge': ridge, 'Lasso': lasso, 'Bayesian Ridge': bayesianreg, 'Decision tree': dtreg, \n",
    "              'Random Forest': rfreg, 'Gradient Boost': gbreg, 'XGB regressor': xgbreg, 'SVR': svr, 'KNN': knnreg, \n",
    "              'Kernel Ridge': kernelreg}\n"
   ]
  },
  {
   "cell_type": "code",
   "execution_count": 58,
   "id": "fc519d0b",
   "metadata": {},
   "outputs": [
    {
     "name": "stdout",
     "output_type": "stream",
     "text": [
      "Linear_Regression\n",
      "Ridge\n",
      "Lasso\n",
      "Bayesian Ridge\n",
      "Decision tree\n",
      "Random Forest\n",
      "Gradient Boost\n",
      "XGB regressor\n",
      "SVR\n",
      "KNN\n",
      "Kernel Ridge\n"
     ]
    }
   ],
   "source": [
    "model_list = list(model_dict.keys())\n",
    "mae_scores = []\n",
    "mse_scores = []\n",
    "rmse_scores =[]\n",
    "r2_scores = []\n",
    "scorer = {'MAE': make_scorer(mean_absolute_error), 'MSE': make_scorer(mean_squared_error), 'RMSE': 'neg_root_mean_squared_error',\n",
    "         'R2': make_scorer(r2_score)}\n",
    "kf = KFold(n_splits=10, shuffle=True, random_state=42)\n",
    "for key, model in model_dict.items():\n",
    "    print(key)\n",
    "    scores = []\n",
    "    # Generate cross-validated predictions\n",
    "    cv_scores = cross_validate(model, X_train, y_train, cv=kf, scoring=scorer)\n",
    "    \n",
    "    mae_scores.append(np.mean(cv_scores['test_MAE']))\n",
    "\n",
    "    mse_scores.append(np.mean(cv_scores['test_MSE']))\n",
    "\n",
    "    rmse_scores.append(np.mean(cv_scores['test_RMSE']))\n",
    "\n",
    "    r2_scores.append(np.mean(cv_scores['test_R2']))\n",
    "\n",
    "    \n",
    "\n",
    "model_performance = {'Model': model_list, 'MAE': mae_scores, 'MSE': mse_scores, 'RMSE':rmse_scores, 'R2': r2_scores}"
   ]
  },
  {
   "cell_type": "code",
   "execution_count": 59,
   "id": "e5f6814d",
   "metadata": {},
   "outputs": [
    {
     "data": {
      "text/html": [
       "<div>\n",
       "<style scoped>\n",
       "    .dataframe tbody tr th:only-of-type {\n",
       "        vertical-align: middle;\n",
       "    }\n",
       "\n",
       "    .dataframe tbody tr th {\n",
       "        vertical-align: top;\n",
       "    }\n",
       "\n",
       "    .dataframe thead th {\n",
       "        text-align: right;\n",
       "    }\n",
       "</style>\n",
       "<table border=\"1\" class=\"dataframe\">\n",
       "  <thead>\n",
       "    <tr style=\"text-align: right;\">\n",
       "      <th></th>\n",
       "      <th>Model</th>\n",
       "      <th>MAE</th>\n",
       "      <th>MSE</th>\n",
       "      <th>RMSE</th>\n",
       "      <th>R2</th>\n",
       "    </tr>\n",
       "  </thead>\n",
       "  <tbody>\n",
       "    <tr>\n",
       "      <th>6</th>\n",
       "      <td>Gradient Boost</td>\n",
       "      <td>744.373303</td>\n",
       "      <td>1.130264e+06</td>\n",
       "      <td>-1062.578587</td>\n",
       "      <td>0.604012</td>\n",
       "    </tr>\n",
       "    <tr>\n",
       "      <th>5</th>\n",
       "      <td>Random Forest</td>\n",
       "      <td>790.156005</td>\n",
       "      <td>1.274965e+06</td>\n",
       "      <td>-1128.577877</td>\n",
       "      <td>0.553442</td>\n",
       "    </tr>\n",
       "    <tr>\n",
       "      <th>7</th>\n",
       "      <td>XGB regressor</td>\n",
       "      <td>819.072525</td>\n",
       "      <td>1.372658e+06</td>\n",
       "      <td>-1170.870956</td>\n",
       "      <td>0.519195</td>\n",
       "    </tr>\n",
       "    <tr>\n",
       "      <th>10</th>\n",
       "      <td>Kernel Ridge</td>\n",
       "      <td>896.940844</td>\n",
       "      <td>1.418959e+06</td>\n",
       "      <td>-1190.633163</td>\n",
       "      <td>0.503089</td>\n",
       "    </tr>\n",
       "    <tr>\n",
       "      <th>0</th>\n",
       "      <td>Linear_Regression</td>\n",
       "      <td>896.865452</td>\n",
       "      <td>1.418995e+06</td>\n",
       "      <td>-1190.644262</td>\n",
       "      <td>0.503084</td>\n",
       "    </tr>\n",
       "    <tr>\n",
       "      <th>1</th>\n",
       "      <td>Ridge</td>\n",
       "      <td>896.911108</td>\n",
       "      <td>1.419013e+06</td>\n",
       "      <td>-1190.652014</td>\n",
       "      <td>0.503076</td>\n",
       "    </tr>\n",
       "    <tr>\n",
       "      <th>2</th>\n",
       "      <td>Lasso</td>\n",
       "      <td>897.153354</td>\n",
       "      <td>1.419381e+06</td>\n",
       "      <td>-1190.806620</td>\n",
       "      <td>0.502945</td>\n",
       "    </tr>\n",
       "    <tr>\n",
       "      <th>3</th>\n",
       "      <td>Bayesian Ridge</td>\n",
       "      <td>897.283181</td>\n",
       "      <td>1.419619e+06</td>\n",
       "      <td>-1190.908179</td>\n",
       "      <td>0.502860</td>\n",
       "    </tr>\n",
       "    <tr>\n",
       "      <th>9</th>\n",
       "      <td>KNN</td>\n",
       "      <td>841.898866</td>\n",
       "      <td>1.434400e+06</td>\n",
       "      <td>-1196.940816</td>\n",
       "      <td>0.497292</td>\n",
       "    </tr>\n",
       "    <tr>\n",
       "      <th>4</th>\n",
       "      <td>Decision tree</td>\n",
       "      <td>1052.704339</td>\n",
       "      <td>2.304189e+06</td>\n",
       "      <td>-1517.107416</td>\n",
       "      <td>0.192379</td>\n",
       "    </tr>\n",
       "    <tr>\n",
       "      <th>8</th>\n",
       "      <td>SVR</td>\n",
       "      <td>1298.810257</td>\n",
       "      <td>2.996138e+06</td>\n",
       "      <td>-1729.740822</td>\n",
       "      <td>-0.046353</td>\n",
       "    </tr>\n",
       "  </tbody>\n",
       "</table>\n",
       "</div>"
      ],
      "text/plain": [
       "                Model          MAE           MSE         RMSE        R2\n",
       "6      Gradient Boost   744.373303  1.130264e+06 -1062.578587  0.604012\n",
       "5       Random Forest   790.156005  1.274965e+06 -1128.577877  0.553442\n",
       "7       XGB regressor   819.072525  1.372658e+06 -1170.870956  0.519195\n",
       "10       Kernel Ridge   896.940844  1.418959e+06 -1190.633163  0.503089\n",
       "0   Linear_Regression   896.865452  1.418995e+06 -1190.644262  0.503084\n",
       "1               Ridge   896.911108  1.419013e+06 -1190.652014  0.503076\n",
       "2               Lasso   897.153354  1.419381e+06 -1190.806620  0.502945\n",
       "3      Bayesian Ridge   897.283181  1.419619e+06 -1190.908179  0.502860\n",
       "9                 KNN   841.898866  1.434400e+06 -1196.940816  0.497292\n",
       "4       Decision tree  1052.704339  2.304189e+06 -1517.107416  0.192379\n",
       "8                 SVR  1298.810257  2.996138e+06 -1729.740822 -0.046353"
      ]
     },
     "execution_count": 59,
     "metadata": {},
     "output_type": "execute_result"
    }
   ],
   "source": [
    "model_performance = pd.DataFrame(model_performance).sort_values(by='R2', ascending=False)\n",
    "model_performance"
   ]
  },
  {
   "cell_type": "code",
   "execution_count": 60,
   "id": "22f3f5b8",
   "metadata": {},
   "outputs": [
    {
     "data": {
      "image/png": "[encoded data removed]",
      "text/plain": [
       "<Figure size 640x480 with 1 Axes>"
      ]
     },
     "metadata": {},
     "output_type": "display_data"
    }
   ],
   "source": [
    "fig = plt.figure()\n",
    "sns.barplot(x=\"Model\", y='R2',data=model_performance)\n",
    "plt.xlabel('Model')\n",
    "plt.ylabel('R2 scores')\n",
    "# plt.legend()\n",
    "plt.xticks(rotation=90)\n",
    "plt.show()\n",
    "fig.clear()"
   ]
  },
  {
   "cell_type": "markdown",
   "id": "324016d6",
   "metadata": {},
   "source": [
    "#### The regression models don't seem to work well so far. Based on the above plot, ___Gradient Boost regressor___ works the best until now. \n",
    "#### But lets try polynomial regression rather than the linear one. This can done by obtaining __polynomial features__ (feature engineering) and then training the model on that transformed data."
   ]
  },
  {
   "cell_type": "code",
   "execution_count": 23,
   "id": "9738ed65",
   "metadata": {},
   "outputs": [],
   "source": [
    "model_dict = {'Linear_Regression': lr, 'Ridge': ridge, 'Bayesian Ridge': bayesianreg, 'KNN': knnreg, \n",
    "              'Kernel Ridge': kernelreg, 'Gradient Boost': gbreg}"
   ]
  },
  {
   "cell_type": "code",
   "execution_count": 159,
   "id": "bb05d465",
   "metadata": {},
   "outputs": [
    {
     "name": "stdout",
     "output_type": "stream",
     "text": [
      "Linear_Regression\n",
      "Ridge\n",
      "Bayesian Ridge\n"
     ]
    },
    {
     "name": "stderr",
     "output_type": "stream",
     "text": [
      "C:\\Users\\akash\\AppData\\Local\\Programs\\Python\\Python310\\lib\\site-packages\\sklearn\\linear_model\\_ridge.py:204: LinAlgWarning: Ill-conditioned matrix (rcond=1.03892e-21): result may not be accurate.\n",
      "  return linalg.solve(A, Xy, assume_a=\"pos\", overwrite_a=True).T\n"
     ]
    },
    {
     "name": "stdout",
     "output_type": "stream",
     "text": [
      "KNN\n",
      "Kernel Ridge\n"
     ]
    },
    {
     "name": "stderr",
     "output_type": "stream",
     "text": [
      "C:\\Users\\akash\\AppData\\Local\\Programs\\Python\\Python310\\lib\\site-packages\\sklearn\\linear_model\\_ridge.py:243: UserWarning: Singular matrix in solving dual problem. Using least-squares solution instead.\n",
      "  warnings.warn(\n"
     ]
    },
    {
     "name": "stdout",
     "output_type": "stream",
     "text": [
      "Gradient Boost\n"
     ]
    }
   ],
   "source": [
    "poly_features = PolynomialFeatures(degree=3)\n",
    "X_train_poly = poly_features.fit_transform(X_train)\n",
    "X_test_poly = poly_features.transform(X_test)\n",
    "model_list = list(model_dict.keys())\n",
    "mae_scores = []\n",
    "mse_scores = []\n",
    "rmse_scores =[]\n",
    "r2_scores = []\n",
    "\n",
    "for key, model in model_dict.items():\n",
    "    print(key)\n",
    "    scores = []\n",
    "    model.fit(X_train_poly, y_train)\n",
    "    y_pred = model.predict(X_test_poly)\n",
    "    \n",
    "    # MAE\n",
    "    mae = mean_absolute_error(y_test, y_pred)\n",
    "    mae_scores.append(mae)\n",
    "#     print(f'Mean Absolute Error: {mae}')\n",
    "\n",
    "    # MSE\n",
    "    mse = mean_squared_error(y_test, y_pred)\n",
    "    mse_scores.append(mse)\n",
    "#     print(f'Mean Squared Error: {mse}')\n",
    "\n",
    "    # RMSE\n",
    "    rmse = np.sqrt(mse)\n",
    "    rmse_scores.append(rmse)\n",
    "#     print(f'Root Mean Squared Error: {rmse}')\n",
    "\n",
    "    # R² Score\n",
    "    r2 = r2_score(y_test, y_pred)\n",
    "    r2_scores.append(r2)\n",
    "    \n",
    "#     model_performance[key] = scores\n",
    "#     print(f'R² Score: {r2}')\n",
    "    \n",
    "\n",
    "model_performance = {'Model': model_list, 'MAE': mae_scores, 'MSE': mse_scores, 'RMSE':rmse_scores, 'R2': r2_scores}"
   ]
  },
  {
   "cell_type": "code",
   "execution_count": 160,
   "id": "aaf7453f",
   "metadata": {},
   "outputs": [
    {
     "data": {
      "text/html": [
       "<div>\n",
       "<style scoped>\n",
       "    .dataframe tbody tr th:only-of-type {\n",
       "        vertical-align: middle;\n",
       "    }\n",
       "\n",
       "    .dataframe tbody tr th {\n",
       "        vertical-align: top;\n",
       "    }\n",
       "\n",
       "    .dataframe thead th {\n",
       "        text-align: right;\n",
       "    }\n",
       "</style>\n",
       "<table border=\"1\" class=\"dataframe\">\n",
       "  <thead>\n",
       "    <tr style=\"text-align: right;\">\n",
       "      <th></th>\n",
       "      <th>Model</th>\n",
       "      <th>MAE</th>\n",
       "      <th>MSE</th>\n",
       "      <th>RMSE</th>\n",
       "      <th>R2</th>\n",
       "    </tr>\n",
       "  </thead>\n",
       "  <tbody>\n",
       "    <tr>\n",
       "      <th>0</th>\n",
       "      <td>Linear_Regression</td>\n",
       "      <td>811.425585</td>\n",
       "      <td>1.333705e+06</td>\n",
       "      <td>1154.861602</td>\n",
       "      <td>0.568425</td>\n",
       "    </tr>\n",
       "    <tr>\n",
       "      <th>1</th>\n",
       "      <td>Ridge</td>\n",
       "      <td>809.946775</td>\n",
       "      <td>1.332284e+06</td>\n",
       "      <td>1154.246034</td>\n",
       "      <td>0.568885</td>\n",
       "    </tr>\n",
       "    <tr>\n",
       "      <th>2</th>\n",
       "      <td>Bayesian Ridge</td>\n",
       "      <td>825.468594</td>\n",
       "      <td>1.337745e+06</td>\n",
       "      <td>1156.609078</td>\n",
       "      <td>0.567118</td>\n",
       "    </tr>\n",
       "    <tr>\n",
       "      <th>3</th>\n",
       "      <td>KNN</td>\n",
       "      <td>854.917112</td>\n",
       "      <td>1.511062e+06</td>\n",
       "      <td>1229.252694</td>\n",
       "      <td>0.511034</td>\n",
       "    </tr>\n",
       "    <tr>\n",
       "      <th>4</th>\n",
       "      <td>Kernel Ridge</td>\n",
       "      <td>871.949345</td>\n",
       "      <td>1.416582e+06</td>\n",
       "      <td>1190.202369</td>\n",
       "      <td>0.541607</td>\n",
       "    </tr>\n",
       "    <tr>\n",
       "      <th>5</th>\n",
       "      <td>Gradient Boost</td>\n",
       "      <td>809.559440</td>\n",
       "      <td>1.341318e+06</td>\n",
       "      <td>1158.152739</td>\n",
       "      <td>0.565962</td>\n",
       "    </tr>\n",
       "  </tbody>\n",
       "</table>\n",
       "</div>"
      ],
      "text/plain": [
       "               Model         MAE           MSE         RMSE        R2\n",
       "0  Linear_Regression  811.425585  1.333705e+06  1154.861602  0.568425\n",
       "1              Ridge  809.946775  1.332284e+06  1154.246034  0.568885\n",
       "2     Bayesian Ridge  825.468594  1.337745e+06  1156.609078  0.567118\n",
       "3                KNN  854.917112  1.511062e+06  1229.252694  0.511034\n",
       "4       Kernel Ridge  871.949345  1.416582e+06  1190.202369  0.541607\n",
       "5     Gradient Boost  809.559440  1.341318e+06  1158.152739  0.565962"
      ]
     },
     "execution_count": 160,
     "metadata": {},
     "output_type": "execute_result"
    }
   ],
   "source": [
    "model_performance = pd.DataFrame(model_performance)\n",
    "model_performance"
   ]
  },
  {
   "cell_type": "markdown",
   "id": "661cfc50",
   "metadata": {},
   "source": [
    "### Okay, we got some improvement with polynomial features, but still quite poor. So based on degree 1 polynomial fit, lets select Ridge regression, Bayesian Ridge, and Gradient Boost regression. Tuning their model parameters using CV techinique might help with the performance. "
   ]
  },
  {
   "cell_type": "markdown",
   "id": "7da2ea60",
   "metadata": {},
   "source": [
    "### ___Gradient Boost___"
   ]
  },
  {
   "cell_type": "code",
   "execution_count": 81,
   "id": "e4751c06",
   "metadata": {},
   "outputs": [
    {
     "name": "stdout",
     "output_type": "stream",
     "text": [
      "Best parameters:  {'learning_rate': 0.1, 'max_depth': 2, 'n_estimators': 100}\n"
     ]
    }
   ],
   "source": [
    "from sklearn.model_selection import GridSearchCV\n",
    "\n",
    "param_grid = {'n_estimators': [100, 200, 300], 'max_depth': [2, 10, 20], 'learning_rate': [0.1, 0.5, 1]}\n",
    "grid_search = GridSearchCV(GradientBoostingRegressor(verbose=1), param_grid, cv=5)\n",
    "grid_search.fit(X_train, y_train)\n",
    "print(f\"Best parameters: \", grid_search.best_params_)\n",
    "print(f\"Best parameters: \", {'learning_rate': 0.1, 'max_depth': 2, 'n_estimators': 100})"
   ]
  },
  {
   "cell_type": "code",
   "execution_count": 61,
   "id": "84f22acc",
   "metadata": {},
   "outputs": [
    {
     "name": "stdout",
     "output_type": "stream",
     "text": [
      "      Iter       Train Loss   Remaining Time \n",
      "         1     2629896.2316            3.21s\n",
      "         2     2435877.0124            3.26s\n",
      "         3     2276403.9381            3.29s\n",
      "         4     2139991.9451            2.95s\n",
      "         5     2023192.8535            3.29s\n",
      "         6     1922954.3296            3.26s\n",
      "         7     1834176.6852            3.82s\n",
      "         8     1756766.1851            3.67s\n",
      "         9     1686038.9721            4.06s\n",
      "        10     1624288.6104            4.10s\n",
      "        20     1278882.4520            4.71s\n",
      "        30     1167720.4828            4.47s\n",
      "        40     1126461.0265            4.44s\n",
      "        50     1108115.4354            4.32s\n",
      "        60     1099195.3797            4.07s\n",
      "        70     1092681.1425            3.96s\n",
      "        80     1087681.3838            3.78s\n",
      "        90     1083667.7819            3.54s\n",
      "       100     1079899.9062            3.44s\n",
      "       200     1048596.4282            1.84s\n",
      "       300     1019212.6228            0.00s\n",
      "r2:  0.5710663631284074\n",
      "MAE:  811.357151050388\n"
     ]
    }
   ],
   "source": [
    "# Use the best model for training\n",
    "# best_model = grid_search.best_estimator_\n",
    "model = GradientBoostingRegressor(n_estimators=300, max_depth=2, learning_rate=0.1, verbose=1)\n",
    "model.fit(X_train, y_train)\n",
    "y_pred = model.predict(X_test)\n",
    "r2 = r2_score(y_test, y_pred)\n",
    "print('r2: ', r2)\n",
    "mae = mean_absolute_error(y_test, y_pred)\n",
    "print('MAE: ', mae)"
   ]
  },
  {
   "cell_type": "code",
   "execution_count": 62,
   "id": "34a84e86",
   "metadata": {
    "scrolled": true
   },
   "outputs": [
    {
     "name": "stdout",
     "output_type": "stream",
     "text": [
      "r2:  0.5710663631284074\n",
      "MAE:  811.357151050388\n"
     ]
    }
   ],
   "source": [
    "r2 = r2_score(y_test, y_pred)\n",
    "print('r2: ', r2)\n",
    "mae = mean_absolute_error(y_test, y_pred)\n",
    "print('MAE: ', mae)"
   ]
  },
  {
   "cell_type": "markdown",
   "id": "6de9b697",
   "metadata": {},
   "source": [
    "### ___Visualizing the deviance of test and training set with the number of gradient boost iterations___"
   ]
  },
  {
   "cell_type": "code",
   "execution_count": 63,
   "id": "2a0b5aa8",
   "metadata": {},
   "outputs": [
    {
     "data": {
      "image/png": "[encoded data removed]",
      "text/plain": [
       "<Figure size 600x600 with 1 Axes>"
      ]
     },
     "metadata": {},
     "output_type": "display_data"
    }
   ],
   "source": [
    "test_score = np.zeros(300, dtype=np.float64)\n",
    "for i, y_pred in enumerate(model.staged_predict(X_test)):\n",
    "    test_score[i] = mean_squared_error(y_test, y_pred)\n",
    "\n",
    "fig = plt.figure(figsize=(6, 6))\n",
    "plt.subplot(1, 1, 1)\n",
    "plt.title(\"Deviance\")\n",
    "plt.plot(\n",
    "    np.arange(300) + 1,\n",
    "    model.train_score_,\n",
    "    \"b-\",\n",
    "    label=\"Training Set Deviance\",\n",
    ")\n",
    "plt.plot(\n",
    "    np.arange(300) + 1, test_score, \"r-\", label=\"Test Set Deviance\"\n",
    ")\n",
    "plt.legend(loc=\"upper right\")\n",
    "plt.xlabel(\"Boosting Iterations\")\n",
    "plt.ylabel(\"Deviance\")\n",
    "fig.tight_layout()\n",
    "plt.show()"
   ]
  },
  {
   "cell_type": "markdown",
   "id": "889a542e",
   "metadata": {},
   "source": [
    "### ___Random  forest___"
   ]
  },
  {
   "cell_type": "code",
   "execution_count": 109,
   "id": "6fb3864f",
   "metadata": {},
   "outputs": [
    {
     "name": "stderr",
     "output_type": "stream",
     "text": [
      "[Parallel(n_jobs=1)]: Done  49 tasks      | elapsed:    0.6s\n",
      "[Parallel(n_jobs=1)]: Done  49 tasks      | elapsed:    0.0s\n",
      "[Parallel(n_jobs=1)]: Done  49 tasks      | elapsed:    0.5s\n",
      "[Parallel(n_jobs=1)]: Done  49 tasks      | elapsed:    0.0s\n",
      "[Parallel(n_jobs=1)]: Done  49 tasks      | elapsed:    0.6s\n",
      "[Parallel(n_jobs=1)]: Done  49 tasks      | elapsed:    0.0s\n",
      "[Parallel(n_jobs=1)]: Done  49 tasks      | elapsed:    0.6s\n",
      "[Parallel(n_jobs=1)]: Done  49 tasks      | elapsed:    0.0s\n",
      "[Parallel(n_jobs=1)]: Done  49 tasks      | elapsed:    0.6s\n",
      "[Parallel(n_jobs=1)]: Done  49 tasks      | elapsed:    0.0s\n",
      "[Parallel(n_jobs=1)]: Done  49 tasks      | elapsed:    0.5s\n",
      "[Parallel(n_jobs=1)]: Done 199 tasks      | elapsed:    3.0s\n",
      "[Parallel(n_jobs=1)]: Done  49 tasks      | elapsed:    0.0s\n",
      "[Parallel(n_jobs=1)]: Done 199 tasks      | elapsed:    0.0s\n",
      "[Parallel(n_jobs=1)]: Done  49 tasks      | elapsed:    0.4s\n",
      "[Parallel(n_jobs=1)]: Done 199 tasks      | elapsed:    1.7s\n",
      "[Parallel(n_jobs=1)]: Done  49 tasks      | elapsed:    0.0s\n",
      "[Parallel(n_jobs=1)]: Done 199 tasks      | elapsed:    0.0s\n",
      "[Parallel(n_jobs=1)]: Done  49 tasks      | elapsed:    0.3s\n",
      "[Parallel(n_jobs=1)]: Done 199 tasks      | elapsed:    1.7s\n",
      "[Parallel(n_jobs=1)]: Done  49 tasks      | elapsed:    0.0s\n",
      "[Parallel(n_jobs=1)]: Done 199 tasks      | elapsed:    0.0s\n",
      "[Parallel(n_jobs=1)]: Done  49 tasks      | elapsed:    0.3s\n",
      "[Parallel(n_jobs=1)]: Done 199 tasks      | elapsed:    1.7s\n",
      "[Parallel(n_jobs=1)]: Done  49 tasks      | elapsed:    0.0s\n",
      "[Parallel(n_jobs=1)]: Done 199 tasks      | elapsed:    0.0s\n",
      "[Parallel(n_jobs=1)]: Done  49 tasks      | elapsed:    0.3s\n",
      "[Parallel(n_jobs=1)]: Done 199 tasks      | elapsed:    1.7s\n",
      "[Parallel(n_jobs=1)]: Done  49 tasks      | elapsed:    0.0s\n",
      "[Parallel(n_jobs=1)]: Done 199 tasks      | elapsed:    0.0s\n",
      "[Parallel(n_jobs=1)]: Done  49 tasks      | elapsed:    0.3s\n",
      "[Parallel(n_jobs=1)]: Done 199 tasks      | elapsed:    1.7s\n",
      "[Parallel(n_jobs=1)]: Done  49 tasks      | elapsed:    0.0s\n",
      "[Parallel(n_jobs=1)]: Done 199 tasks      | elapsed:    0.0s\n",
      "[Parallel(n_jobs=1)]: Done  49 tasks      | elapsed:    0.3s\n",
      "[Parallel(n_jobs=1)]: Done 199 tasks      | elapsed:    1.7s\n",
      "[Parallel(n_jobs=1)]: Done  49 tasks      | elapsed:    0.0s\n",
      "[Parallel(n_jobs=1)]: Done 199 tasks      | elapsed:    0.0s\n",
      "[Parallel(n_jobs=1)]: Done  49 tasks      | elapsed:    0.3s\n",
      "[Parallel(n_jobs=1)]: Done 199 tasks      | elapsed:    1.7s\n",
      "[Parallel(n_jobs=1)]: Done  49 tasks      | elapsed:    0.0s\n",
      "[Parallel(n_jobs=1)]: Done 199 tasks      | elapsed:    0.0s\n",
      "[Parallel(n_jobs=1)]: Done  49 tasks      | elapsed:    0.3s\n",
      "[Parallel(n_jobs=1)]: Done 199 tasks      | elapsed:    1.7s\n",
      "[Parallel(n_jobs=1)]: Done  49 tasks      | elapsed:    0.0s\n",
      "[Parallel(n_jobs=1)]: Done 199 tasks      | elapsed:    0.0s\n",
      "[Parallel(n_jobs=1)]: Done  49 tasks      | elapsed:    0.4s\n",
      "[Parallel(n_jobs=1)]: Done 199 tasks      | elapsed:    1.7s\n",
      "[Parallel(n_jobs=1)]: Done  49 tasks      | elapsed:    0.0s\n",
      "[Parallel(n_jobs=1)]: Done 199 tasks      | elapsed:    0.0s\n",
      "[Parallel(n_jobs=1)]: Done  49 tasks      | elapsed:    1.7s\n",
      "[Parallel(n_jobs=1)]: Done  49 tasks      | elapsed:    0.0s\n",
      "[Parallel(n_jobs=1)]: Done  49 tasks      | elapsed:    1.7s\n",
      "[Parallel(n_jobs=1)]: Done  49 tasks      | elapsed:    0.0s\n",
      "[Parallel(n_jobs=1)]: Done  49 tasks      | elapsed:    1.7s\n",
      "[Parallel(n_jobs=1)]: Done  49 tasks      | elapsed:    0.0s\n",
      "[Parallel(n_jobs=1)]: Done  49 tasks      | elapsed:    1.7s\n",
      "[Parallel(n_jobs=1)]: Done  49 tasks      | elapsed:    0.0s\n",
      "[Parallel(n_jobs=1)]: Done  49 tasks      | elapsed:    1.7s\n",
      "[Parallel(n_jobs=1)]: Done  49 tasks      | elapsed:    0.0s\n",
      "[Parallel(n_jobs=1)]: Done  49 tasks      | elapsed:    1.7s\n",
      "[Parallel(n_jobs=1)]: Done 199 tasks      | elapsed:    8.0s\n",
      "[Parallel(n_jobs=1)]: Done  49 tasks      | elapsed:    0.0s\n",
      "[Parallel(n_jobs=1)]: Done 199 tasks      | elapsed:    0.0s\n",
      "[Parallel(n_jobs=1)]: Done  49 tasks      | elapsed:    2.2s\n",
      "[Parallel(n_jobs=1)]: Done 199 tasks      | elapsed:    9.1s\n",
      "[Parallel(n_jobs=1)]: Done  49 tasks      | elapsed:    0.0s\n",
      "[Parallel(n_jobs=1)]: Done 199 tasks      | elapsed:    0.0s\n",
      "[Parallel(n_jobs=1)]: Done  49 tasks      | elapsed:    2.3s\n",
      "[Parallel(n_jobs=1)]: Done 199 tasks      | elapsed:    9.2s\n",
      "[Parallel(n_jobs=1)]: Done  49 tasks      | elapsed:    0.0s\n",
      "[Parallel(n_jobs=1)]: Done 199 tasks      | elapsed:    0.0s\n",
      "[Parallel(n_jobs=1)]: Done  49 tasks      | elapsed:    2.1s\n",
      "[Parallel(n_jobs=1)]: Done 199 tasks      | elapsed:    8.4s\n",
      "[Parallel(n_jobs=1)]: Done  49 tasks      | elapsed:    0.0s\n",
      "[Parallel(n_jobs=1)]: Done 199 tasks      | elapsed:    0.0s\n",
      "[Parallel(n_jobs=1)]: Done  49 tasks      | elapsed:    2.1s\n",
      "[Parallel(n_jobs=1)]: Done 199 tasks      | elapsed:    9.1s\n",
      "[Parallel(n_jobs=1)]: Done  49 tasks      | elapsed:    0.0s\n",
      "[Parallel(n_jobs=1)]: Done 199 tasks      | elapsed:    0.0s\n",
      "[Parallel(n_jobs=1)]: Done  49 tasks      | elapsed:    2.2s\n",
      "[Parallel(n_jobs=1)]: Done 199 tasks      | elapsed:    9.3s\n",
      "[Parallel(n_jobs=1)]: Done  49 tasks      | elapsed:    0.0s\n",
      "[Parallel(n_jobs=1)]: Done 199 tasks      | elapsed:    0.0s\n",
      "[Parallel(n_jobs=1)]: Done  49 tasks      | elapsed:    2.2s\n",
      "[Parallel(n_jobs=1)]: Done 199 tasks      | elapsed:    9.5s\n",
      "[Parallel(n_jobs=1)]: Done  49 tasks      | elapsed:    0.0s\n",
      "[Parallel(n_jobs=1)]: Done 199 tasks      | elapsed:    0.0s\n",
      "[Parallel(n_jobs=1)]: Done  49 tasks      | elapsed:    2.3s\n",
      "[Parallel(n_jobs=1)]: Done 199 tasks      | elapsed:    9.5s\n",
      "[Parallel(n_jobs=1)]: Done  49 tasks      | elapsed:    0.0s\n",
      "[Parallel(n_jobs=1)]: Done 199 tasks      | elapsed:    0.0s\n",
      "[Parallel(n_jobs=1)]: Done  49 tasks      | elapsed:    2.2s\n",
      "[Parallel(n_jobs=1)]: Done 199 tasks      | elapsed:   10.2s\n",
      "[Parallel(n_jobs=1)]: Done  49 tasks      | elapsed:    0.0s\n",
      "[Parallel(n_jobs=1)]: Done 199 tasks      | elapsed:    0.0s\n",
      "[Parallel(n_jobs=1)]: Done  49 tasks      | elapsed:    1.7s\n",
      "[Parallel(n_jobs=1)]: Done 199 tasks      | elapsed:    7.2s\n",
      "[Parallel(n_jobs=1)]: Done  49 tasks      | elapsed:    0.0s\n",
      "[Parallel(n_jobs=1)]: Done 199 tasks      | elapsed:    0.0s\n",
      "[Parallel(n_jobs=1)]: Done  49 tasks      | elapsed:    2.5s\n",
      "[Parallel(n_jobs=1)]: Done  49 tasks      | elapsed:    0.0s\n",
      "[Parallel(n_jobs=1)]: Done  49 tasks      | elapsed:    2.6s\n",
      "[Parallel(n_jobs=1)]: Done  49 tasks      | elapsed:    0.0s\n",
      "[Parallel(n_jobs=1)]: Done  49 tasks      | elapsed:    2.5s\n",
      "[Parallel(n_jobs=1)]: Done  49 tasks      | elapsed:    0.0s\n",
      "[Parallel(n_jobs=1)]: Done  49 tasks      | elapsed:    2.6s\n",
      "[Parallel(n_jobs=1)]: Done  49 tasks      | elapsed:    0.0s\n",
      "[Parallel(n_jobs=1)]: Done  49 tasks      | elapsed:    3.1s\n",
      "[Parallel(n_jobs=1)]: Done  49 tasks      | elapsed:    0.0s\n",
      "[Parallel(n_jobs=1)]: Done  49 tasks      | elapsed:    3.1s\n",
      "[Parallel(n_jobs=1)]: Done 199 tasks      | elapsed:   13.7s\n",
      "[Parallel(n_jobs=1)]: Done  49 tasks      | elapsed:    0.0s\n",
      "[Parallel(n_jobs=1)]: Done 199 tasks      | elapsed:    0.0s\n",
      "[Parallel(n_jobs=1)]: Done  49 tasks      | elapsed:    3.3s\n",
      "[Parallel(n_jobs=1)]: Done 199 tasks      | elapsed:   13.7s\n",
      "[Parallel(n_jobs=1)]: Done  49 tasks      | elapsed:    0.0s\n",
      "[Parallel(n_jobs=1)]: Done 199 tasks      | elapsed:    0.1s\n",
      "[Parallel(n_jobs=1)]: Done  49 tasks      | elapsed:    3.3s\n",
      "[Parallel(n_jobs=1)]: Done 199 tasks      | elapsed:   13.8s\n",
      "[Parallel(n_jobs=1)]: Done  49 tasks      | elapsed:    0.0s\n",
      "[Parallel(n_jobs=1)]: Done 199 tasks      | elapsed:    0.0s\n",
      "[Parallel(n_jobs=1)]: Done  49 tasks      | elapsed:    3.4s\n",
      "[Parallel(n_jobs=1)]: Done 199 tasks      | elapsed:   14.7s\n",
      "[Parallel(n_jobs=1)]: Done  49 tasks      | elapsed:    0.0s\n",
      "[Parallel(n_jobs=1)]: Done 199 tasks      | elapsed:    0.0s\n",
      "[Parallel(n_jobs=1)]: Done  49 tasks      | elapsed:    3.5s\n",
      "[Parallel(n_jobs=1)]: Done 199 tasks      | elapsed:   14.2s\n",
      "[Parallel(n_jobs=1)]: Done  49 tasks      | elapsed:    0.0s\n",
      "[Parallel(n_jobs=1)]: Done 199 tasks      | elapsed:    0.1s\n",
      "[Parallel(n_jobs=1)]: Done  49 tasks      | elapsed:    4.1s\n",
      "[Parallel(n_jobs=1)]: Done 199 tasks      | elapsed:   12.3s\n",
      "[Parallel(n_jobs=1)]: Done  49 tasks      | elapsed:    0.0s\n",
      "[Parallel(n_jobs=1)]: Done 199 tasks      | elapsed:    0.0s\n",
      "[Parallel(n_jobs=1)]: Done  49 tasks      | elapsed:    2.0s\n"
     ]
    },
    {
     "name": "stderr",
     "output_type": "stream",
     "text": [
      "[Parallel(n_jobs=1)]: Done 199 tasks      | elapsed:    7.8s\n",
      "[Parallel(n_jobs=1)]: Done  49 tasks      | elapsed:    0.0s\n",
      "[Parallel(n_jobs=1)]: Done 199 tasks      | elapsed:    0.0s\n",
      "[Parallel(n_jobs=1)]: Done  49 tasks      | elapsed:    2.1s\n",
      "[Parallel(n_jobs=1)]: Done 199 tasks      | elapsed:   10.3s\n",
      "[Parallel(n_jobs=1)]: Done  49 tasks      | elapsed:    0.0s\n",
      "[Parallel(n_jobs=1)]: Done 199 tasks      | elapsed:    0.0s\n",
      "[Parallel(n_jobs=1)]: Done  49 tasks      | elapsed:    3.3s\n",
      "[Parallel(n_jobs=1)]: Done 199 tasks      | elapsed:   11.4s\n",
      "[Parallel(n_jobs=1)]: Done  49 tasks      | elapsed:    0.0s\n",
      "[Parallel(n_jobs=1)]: Done 199 tasks      | elapsed:    0.0s\n",
      "[Parallel(n_jobs=1)]: Done  49 tasks      | elapsed:    2.3s\n",
      "[Parallel(n_jobs=1)]: Done 199 tasks      | elapsed:   11.6s\n",
      "[Parallel(n_jobs=1)]: Done  49 tasks      | elapsed:    0.0s\n",
      "[Parallel(n_jobs=1)]: Done 199 tasks      | elapsed:    0.0s\n",
      "[Parallel(n_jobs=1)]: Done  49 tasks      | elapsed:    2.3s\n"
     ]
    },
    {
     "name": "stdout",
     "output_type": "stream",
     "text": [
      "Best parameters:  {'max_depth': 10, 'n_estimators': 100}\n"
     ]
    }
   ],
   "source": [
    "from sklearn.model_selection import GridSearchCV\n",
    "\n",
    "param_grid = {'n_estimators': [100, 200, 250], 'max_depth': [2, 10, 15]}\n",
    "grid_search = GridSearchCV(RandomForestRegressor(verbose=1), param_grid, cv=5)\n",
    "grid_search.fit(X_train, y_train)\n",
    "print(f\"Best parameters: \", grid_search.best_params_)"
   ]
  },
  {
   "cell_type": "code",
   "execution_count": 64,
   "id": "83a01874",
   "metadata": {},
   "outputs": [
    {
     "name": "stderr",
     "output_type": "stream",
     "text": [
      "[Parallel(n_jobs=1)]: Done  49 tasks      | elapsed:    2.6s\n",
      "[Parallel(n_jobs=1)]: Done 199 tasks      | elapsed:   10.1s\n",
      "[Parallel(n_jobs=1)]: Done  49 tasks      | elapsed:    0.0s\n",
      "[Parallel(n_jobs=1)]: Done 199 tasks      | elapsed:    0.0s\n"
     ]
    }
   ],
   "source": [
    "model = RandomForestRegressor(n_estimators=200, max_depth=10, verbose=1)\n",
    "model.fit(X_train, y_train)\n",
    "y_pred = model.predict(X_test)"
   ]
  },
  {
   "cell_type": "code",
   "execution_count": 65,
   "id": "b31a77da",
   "metadata": {},
   "outputs": [
    {
     "name": "stdout",
     "output_type": "stream",
     "text": [
      "r2:  0.5622833454082072\n",
      "MAE:  814.711925311648\n"
     ]
    }
   ],
   "source": [
    "r2 = r2_score(y_test, y_pred)\n",
    "print('r2: ', r2)\n",
    "mae = mean_absolute_error(y_test, y_pred)\n",
    "print('MAE: ', mae)"
   ]
  },
  {
   "cell_type": "code",
   "execution_count": null,
   "id": "da81b04d",
   "metadata": {},
   "outputs": [],
   "source": []
  },
  {
   "cell_type": "markdown",
   "id": "adf898c2",
   "metadata": {},
   "source": [
    "### ___XGB Regressor___"
   ]
  },
  {
   "cell_type": "code",
   "execution_count": 70,
   "id": "04ec736b",
   "metadata": {},
   "outputs": [
    {
     "name": "stdout",
     "output_type": "stream",
     "text": [
      "Best parameters:  {'learning_rate': 0.1, 'max_depth': 6, 'n_estimators': 100}\n"
     ]
    }
   ],
   "source": [
    "from sklearn.model_selection import GridSearchCV\n",
    "param_grid = {'n_estimators': [100, 200, 250], 'max_depth': [6, 10, 15], 'learning_rate':[0.1, 0.3, 0.5]}\n",
    "grid_search = GridSearchCV(XGBRegressor(), param_grid, cv=5)\n",
    "grid_search.fit(X_train, y_train)\n",
    "print(f\"Best parameters: \", grid_search.best_params_)"
   ]
  },
  {
   "cell_type": "code",
   "execution_count": 72,
   "id": "f94373a2",
   "metadata": {},
   "outputs": [],
   "source": [
    "model = XGBRegressor(n_estimators=300, max_depth=6, learning_rate=0.1)\n",
    "model.fit(X_train, y_train)\n",
    "y_pred = model.predict(X_test)"
   ]
  },
  {
   "cell_type": "code",
   "execution_count": 73,
   "id": "9eec98da",
   "metadata": {},
   "outputs": [
    {
     "name": "stdout",
     "output_type": "stream",
     "text": [
      "r2:  0.5134659625343805\n",
      "MAE:  860.7382213074123\n"
     ]
    }
   ],
   "source": [
    "r2 = r2_score(y_test, y_pred)\n",
    "print('r2: ', r2)\n",
    "mae = mean_absolute_error(y_test, y_pred)\n",
    "print('MAE: ', mae)"
   ]
  },
  {
   "cell_type": "code",
   "execution_count": null,
   "id": "8f24c34d",
   "metadata": {},
   "outputs": [],
   "source": []
  },
  {
   "cell_type": "markdown",
   "id": "7c57766a",
   "metadata": {},
   "source": [
    "### ___Bayesian Ridge___"
   ]
  },
  {
   "cell_type": "code",
   "execution_count": 93,
   "id": "8dd80162",
   "metadata": {},
   "outputs": [
    {
     "name": "stdout",
     "output_type": "stream",
     "text": [
      "Convergence after  18  iterations\n",
      "Convergence after  17  iterations\n",
      "Convergence after  17  iterations\n",
      "Convergence after  18  iterations\n",
      "Convergence after  18  iterations\n",
      "Convergence after  18  iterations\n",
      "Convergence after  17  iterations\n",
      "Convergence after  17  iterations\n",
      "Convergence after  18  iterations\n",
      "Convergence after  18  iterations\n",
      "Convergence after  18  iterations\n",
      "Convergence after  17  iterations\n",
      "Convergence after  17  iterations\n",
      "Convergence after  18  iterations\n",
      "Convergence after  18  iterations\n",
      "Convergence after  18  iterations\n",
      "Convergence after  17  iterations\n",
      "Convergence after  17  iterations\n",
      "Convergence after  18  iterations\n",
      "Convergence after  18  iterations\n",
      "Convergence after  18  iterations\n",
      "Convergence after  17  iterations\n",
      "Convergence after  17  iterations\n",
      "Convergence after  18  iterations\n",
      "Convergence after  18  iterations\n",
      "Convergence after  18  iterations\n",
      "Convergence after  17  iterations\n",
      "Convergence after  17  iterations\n",
      "Convergence after  18  iterations\n",
      "Convergence after  18  iterations\n",
      "Convergence after  18  iterations\n",
      "Convergence after  17  iterations\n",
      "Convergence after  17  iterations\n",
      "Convergence after  18  iterations\n",
      "Convergence after  18  iterations\n",
      "Convergence after  18  iterations\n",
      "Convergence after  17  iterations\n",
      "Convergence after  17  iterations\n",
      "Convergence after  18  iterations\n",
      "Convergence after  18  iterations\n",
      "Convergence after  18  iterations\n",
      "Convergence after  17  iterations\n",
      "Convergence after  17  iterations\n",
      "Convergence after  18  iterations\n",
      "Convergence after  18  iterations\n",
      "Convergence after  18  iterations\n",
      "Convergence after  17  iterations\n",
      "Convergence after  17  iterations\n",
      "Convergence after  18  iterations\n",
      "Convergence after  18  iterations\n",
      "Convergence after  18  iterations\n",
      "Convergence after  17  iterations\n",
      "Convergence after  17  iterations\n",
      "Convergence after  18  iterations\n",
      "Convergence after  18  iterations\n",
      "Convergence after  18  iterations\n",
      "Convergence after  17  iterations\n",
      "Convergence after  17  iterations\n",
      "Convergence after  18  iterations\n",
      "Convergence after  18  iterations\n",
      "Convergence after  18  iterations\n",
      "Convergence after  17  iterations\n",
      "Convergence after  17  iterations\n",
      "Convergence after  18  iterations\n",
      "Convergence after  18  iterations\n",
      "Convergence after  18  iterations\n",
      "Convergence after  17  iterations\n",
      "Convergence after  17  iterations\n",
      "Convergence after  18  iterations\n",
      "Convergence after  18  iterations\n",
      "Convergence after  18  iterations\n",
      "Convergence after  17  iterations\n",
      "Convergence after  17  iterations\n",
      "Convergence after  18  iterations\n",
      "Convergence after  18  iterations\n",
      "Convergence after  18  iterations\n",
      "Convergence after  17  iterations\n",
      "Convergence after  17  iterations\n",
      "Convergence after  18  iterations\n",
      "Convergence after  18  iterations\n",
      "Convergence after  18  iterations\n",
      "Convergence after  17  iterations\n",
      "Convergence after  17  iterations\n",
      "Convergence after  18  iterations\n",
      "Convergence after  18  iterations\n",
      "Convergence after  18  iterations\n",
      "Convergence after  17  iterations\n",
      "Convergence after  17  iterations\n",
      "Convergence after  18  iterations\n",
      "Convergence after  18  iterations\n",
      "Convergence after  18  iterations\n",
      "Convergence after  17  iterations\n",
      "Convergence after  17  iterations\n",
      "Convergence after  18  iterations\n",
      "Convergence after  18  iterations\n",
      "Convergence after  18  iterations\n",
      "Convergence after  17  iterations\n",
      "Convergence after  17  iterations\n",
      "Convergence after  18  iterations\n",
      "Convergence after  18  iterations\n",
      "Convergence after  18  iterations\n",
      "Convergence after  17  iterations\n",
      "Convergence after  17  iterations\n",
      "Convergence after  18  iterations\n",
      "Convergence after  18  iterations\n",
      "Convergence after  18  iterations\n",
      "Convergence after  17  iterations\n",
      "Convergence after  17  iterations\n",
      "Convergence after  18  iterations\n",
      "Convergence after  18  iterations\n",
      "Convergence after  18  iterations\n",
      "Convergence after  17  iterations\n",
      "Convergence after  17  iterations\n",
      "Convergence after  18  iterations\n",
      "Convergence after  18  iterations\n",
      "Convergence after  18  iterations\n",
      "Convergence after  17  iterations\n",
      "Convergence after  17  iterations\n",
      "Convergence after  18  iterations\n",
      "Convergence after  18  iterations\n",
      "Convergence after  18  iterations\n",
      "Convergence after  17  iterations\n",
      "Convergence after  17  iterations\n",
      "Convergence after  18  iterations\n",
      "Convergence after  18  iterations\n",
      "Convergence after  18  iterations\n",
      "Convergence after  17  iterations\n",
      "Convergence after  17  iterations\n",
      "Convergence after  18  iterations\n",
      "Convergence after  18  iterations\n",
      "Convergence after  18  iterations\n",
      "Convergence after  17  iterations\n",
      "Convergence after  17  iterations\n",
      "Convergence after  18  iterations\n",
      "Convergence after  18  iterations\n",
      "Convergence after  18  iterations\n",
      "Convergence after  17  iterations\n",
      "Convergence after  17  iterations\n",
      "Convergence after  18  iterations\n",
      "Convergence after  18  iterations\n",
      "Convergence after  18  iterations\n",
      "Convergence after  17  iterations\n",
      "Convergence after  17  iterations\n",
      "Convergence after  18  iterations\n",
      "Convergence after  18  iterations\n",
      "Convergence after  18  iterations\n",
      "Convergence after  17  iterations\n",
      "Convergence after  17  iterations\n",
      "Convergence after  18  iterations\n",
      "Convergence after  18  iterations\n",
      "Convergence after  18  iterations\n",
      "Convergence after  17  iterations\n",
      "Convergence after  17  iterations\n",
      "Convergence after  18  iterations\n",
      "Convergence after  18  iterations\n",
      "Convergence after  18  iterations\n",
      "Convergence after  17  iterations\n",
      "Convergence after  17  iterations\n",
      "Convergence after  18  iterations\n",
      "Convergence after  18  iterations\n",
      "Convergence after  18  iterations\n",
      "Convergence after  17  iterations\n",
      "Convergence after  17  iterations\n",
      "Convergence after  18  iterations\n",
      "Convergence after  18  iterations\n",
      "Convergence after  18  iterations\n",
      "Convergence after  17  iterations\n",
      "Convergence after  17  iterations\n",
      "Convergence after  18  iterations\n",
      "Convergence after  18  iterations\n",
      "Convergence after  18  iterations\n",
      "Convergence after  17  iterations\n",
      "Convergence after  17  iterations\n",
      "Convergence after  18  iterations\n",
      "Convergence after  18  iterations\n",
      "Convergence after  18  iterations\n",
      "Convergence after  17  iterations\n",
      "Convergence after  17  iterations\n",
      "Convergence after  18  iterations\n",
      "Convergence after  18  iterations\n",
      "Convergence after  18  iterations\n",
      "Convergence after  17  iterations\n",
      "Convergence after  17  iterations\n",
      "Convergence after  18  iterations\n",
      "Convergence after  18  iterations\n",
      "Convergence after  18  iterations\n",
      "Convergence after  17  iterations\n",
      "Convergence after  17  iterations\n",
      "Convergence after  18  iterations\n",
      "Convergence after  18  iterations\n",
      "Convergence after  18  iterations\n",
      "Convergence after  17  iterations\n",
      "Convergence after  17  iterations\n",
      "Convergence after  18  iterations\n",
      "Convergence after  18  iterations\n",
      "Convergence after  18  iterations\n",
      "Convergence after  17  iterations\n",
      "Convergence after  17  iterations\n",
      "Convergence after  18  iterations\n",
      "Convergence after  18  iterations\n",
      "Convergence after  18  iterations\n",
      "Convergence after  17  iterations\n",
      "Convergence after  17  iterations\n",
      "Convergence after  18  iterations\n",
      "Convergence after  18  iterations\n",
      "Convergence after  18  iterations\n",
      "Convergence after  17  iterations\n",
      "Convergence after  17  iterations\n",
      "Convergence after  18  iterations\n",
      "Convergence after  18  iterations\n",
      "Convergence after  18  iterations\n",
      "Convergence after  17  iterations\n",
      "Convergence after  17  iterations\n",
      "Convergence after  18  iterations\n",
      "Convergence after  18  iterations\n",
      "Convergence after  18  iterations\n",
      "Convergence after  17  iterations\n",
      "Convergence after  17  iterations\n",
      "Convergence after  18  iterations\n",
      "Convergence after  18  iterations\n",
      "Convergence after  18  iterations\n",
      "Convergence after  17  iterations\n",
      "Convergence after  17  iterations\n",
      "Convergence after  18  iterations\n",
      "Convergence after  18  iterations\n",
      "Convergence after  18  iterations\n",
      "Convergence after  17  iterations\n",
      "Convergence after  17  iterations\n",
      "Convergence after  18  iterations\n",
      "Convergence after  18  iterations\n",
      "Convergence after  18  iterations\n",
      "Convergence after  17  iterations\n",
      "Convergence after  17  iterations\n",
      "Convergence after  18  iterations\n",
      "Convergence after  18  iterations\n",
      "Convergence after  18  iterations\n",
      "Convergence after  17  iterations\n",
      "Convergence after  17  iterations\n",
      "Convergence after  18  iterations\n",
      "Convergence after  18  iterations\n",
      "Convergence after  18  iterations\n",
      "Convergence after  17  iterations\n",
      "Convergence after  17  iterations\n"
     ]
    },
    {
     "name": "stdout",
     "output_type": "stream",
     "text": [
      "Convergence after  18  iterations\n",
      "Convergence after  18  iterations\n",
      "Convergence after  18  iterations\n",
      "Convergence after  17  iterations\n",
      "Convergence after  17  iterations\n",
      "Convergence after  18  iterations\n",
      "Convergence after  18  iterations\n",
      "Convergence after  18  iterations\n",
      "Convergence after  17  iterations\n",
      "Convergence after  17  iterations\n",
      "Convergence after  18  iterations\n",
      "Convergence after  18  iterations\n",
      "Convergence after  18  iterations\n",
      "Convergence after  17  iterations\n",
      "Convergence after  17  iterations\n",
      "Convergence after  18  iterations\n",
      "Convergence after  18  iterations\n",
      "Convergence after  18  iterations\n",
      "Convergence after  17  iterations\n",
      "Convergence after  17  iterations\n",
      "Convergence after  18  iterations\n",
      "Convergence after  18  iterations\n",
      "Convergence after  18  iterations\n",
      "Convergence after  17  iterations\n",
      "Convergence after  17  iterations\n",
      "Convergence after  18  iterations\n",
      "Convergence after  18  iterations\n",
      "Convergence after  18  iterations\n",
      "Convergence after  17  iterations\n",
      "Convergence after  17  iterations\n",
      "Convergence after  18  iterations\n",
      "Convergence after  18  iterations\n",
      "Convergence after  18  iterations\n",
      "Convergence after  17  iterations\n",
      "Convergence after  17  iterations\n",
      "Convergence after  18  iterations\n",
      "Convergence after  18  iterations\n",
      "Convergence after  18  iterations\n",
      "Convergence after  17  iterations\n",
      "Convergence after  17  iterations\n",
      "Convergence after  18  iterations\n",
      "Convergence after  18  iterations\n",
      "Convergence after  18  iterations\n",
      "Convergence after  17  iterations\n",
      "Convergence after  17  iterations\n",
      "Convergence after  18  iterations\n",
      "Convergence after  18  iterations\n",
      "Convergence after  18  iterations\n",
      "Convergence after  17  iterations\n",
      "Convergence after  17  iterations\n",
      "Convergence after  18  iterations\n",
      "Convergence after  18  iterations\n",
      "Convergence after  18  iterations\n",
      "Convergence after  17  iterations\n",
      "Convergence after  17  iterations\n",
      "Convergence after  18  iterations\n",
      "Convergence after  18  iterations\n",
      "Convergence after  18  iterations\n",
      "Convergence after  17  iterations\n",
      "Convergence after  17  iterations\n",
      "Convergence after  18  iterations\n",
      "Convergence after  18  iterations\n",
      "Convergence after  18  iterations\n",
      "Convergence after  17  iterations\n",
      "Convergence after  17  iterations\n",
      "Convergence after  18  iterations\n",
      "Convergence after  18  iterations\n",
      "Convergence after  18  iterations\n",
      "Convergence after  17  iterations\n",
      "Convergence after  17  iterations\n",
      "Convergence after  18  iterations\n",
      "Convergence after  18  iterations\n",
      "Convergence after  18  iterations\n",
      "Convergence after  17  iterations\n",
      "Convergence after  17  iterations\n",
      "Convergence after  18  iterations\n",
      "Convergence after  18  iterations\n",
      "Convergence after  18  iterations\n",
      "Convergence after  17  iterations\n",
      "Convergence after  17  iterations\n",
      "Convergence after  18  iterations\n",
      "Convergence after  18  iterations\n",
      "Convergence after  18  iterations\n",
      "Convergence after  17  iterations\n",
      "Convergence after  17  iterations\n",
      "Convergence after  18  iterations\n",
      "Convergence after  18  iterations\n",
      "Convergence after  18  iterations\n",
      "Convergence after  17  iterations\n",
      "Convergence after  17  iterations\n",
      "Convergence after  18  iterations\n",
      "Convergence after  18  iterations\n",
      "Convergence after  18  iterations\n",
      "Convergence after  17  iterations\n",
      "Convergence after  17  iterations\n",
      "Convergence after  18  iterations\n",
      "Convergence after  18  iterations\n",
      "Convergence after  18  iterations\n",
      "Convergence after  17  iterations\n",
      "Convergence after  17  iterations\n",
      "Convergence after  18  iterations\n",
      "Convergence after  18  iterations\n",
      "Convergence after  18  iterations\n",
      "Convergence after  17  iterations\n",
      "Convergence after  17  iterations\n",
      "Convergence after  18  iterations\n",
      "Convergence after  18  iterations\n",
      "Convergence after  18  iterations\n",
      "Convergence after  17  iterations\n",
      "Convergence after  17  iterations\n",
      "Convergence after  18  iterations\n",
      "Convergence after  18  iterations\n",
      "Convergence after  18  iterations\n",
      "Convergence after  17  iterations\n",
      "Convergence after  17  iterations\n",
      "Convergence after  18  iterations\n",
      "Convergence after  18  iterations\n",
      "Convergence after  18  iterations\n",
      "Convergence after  17  iterations\n",
      "Convergence after  17  iterations\n",
      "Convergence after  18  iterations\n",
      "Convergence after  18  iterations\n",
      "Convergence after  18  iterations\n",
      "Convergence after  17  iterations\n",
      "Convergence after  17  iterations\n",
      "Convergence after  18  iterations\n",
      "Convergence after  18  iterations\n",
      "Convergence after  18  iterations\n",
      "Convergence after  17  iterations\n",
      "Convergence after  17  iterations\n",
      "Convergence after  18  iterations\n",
      "Convergence after  18  iterations\n",
      "Convergence after  18  iterations\n",
      "Convergence after  17  iterations\n",
      "Convergence after  17  iterations\n",
      "Convergence after  18  iterations\n",
      "Convergence after  18  iterations\n",
      "Convergence after  18  iterations\n",
      "Convergence after  17  iterations\n",
      "Convergence after  17  iterations\n",
      "Convergence after  18  iterations\n",
      "Convergence after  18  iterations\n",
      "Convergence after  18  iterations\n",
      "Convergence after  17  iterations\n",
      "Convergence after  17  iterations\n",
      "Convergence after  18  iterations\n",
      "Convergence after  18  iterations\n",
      "Convergence after  18  iterations\n",
      "Convergence after  17  iterations\n",
      "Convergence after  17  iterations\n",
      "Convergence after  18  iterations\n",
      "Convergence after  18  iterations\n",
      "Convergence after  18  iterations\n",
      "Convergence after  17  iterations\n",
      "Convergence after  17  iterations\n",
      "Convergence after  18  iterations\n",
      "Convergence after  18  iterations\n",
      "Convergence after  18  iterations\n",
      "Convergence after  17  iterations\n",
      "Convergence after  17  iterations\n",
      "Convergence after  18  iterations\n",
      "Convergence after  18  iterations\n",
      "Convergence after  16  iterations\n",
      "Best parameters:  {'alpha_1': 10, 'alpha_2': 1e-06, 'lambda_1': 1e-06, 'lambda_2': 10}\n"
     ]
    }
   ],
   "source": [
    "param_grid = {'alpha_1':[1e-6, 1e-1, 10], 'alpha_2':[1e-6, 5e-6, 1e-3], 'lambda_1':[1e-6, 5e-6, 1e-3], 'lambda_2':[1e-6, 1e-1, 10]}\n",
    "grid_search = GridSearchCV(BayesianRidge(verbose=True), param_grid, cv=5)\n",
    "grid_search.fit(X_train, y_train)\n",
    "print(f\"Best parameters: \", grid_search.best_params_)"
   ]
  },
  {
   "cell_type": "code",
   "execution_count": 89,
   "id": "06484c9d",
   "metadata": {},
   "outputs": [],
   "source": [
    "model = BayesianRidge(alpha_1=10, lambda_2=10)\n",
    "model.fit(X_train, y_train)\n",
    "y_pred = model.predict(X_test)"
   ]
  },
  {
   "cell_type": "code",
   "execution_count": 90,
   "id": "64052c28",
   "metadata": {},
   "outputs": [
    {
     "name": "stdout",
     "output_type": "stream",
     "text": [
      "r2:  0.493365093384005\n",
      "MAE:  933.1866970358476\n"
     ]
    }
   ],
   "source": [
    "r2 = r2_score(y_test, y_pred)\n",
    "print('r2: ', r2)\n",
    "mae = mean_absolute_error(y_test, y_pred)\n",
    "print('MAE: ', mae)"
   ]
  },
  {
   "cell_type": "code",
   "execution_count": 92,
   "id": "ab7a0282",
   "metadata": {},
   "outputs": [
    {
     "name": "stdout",
     "output_type": "stream",
     "text": [
      "r2:  0.4933661143581092\n",
      "MAE:  933.1844781604588\n"
     ]
    }
   ],
   "source": [
    "model = BayesianRidge(alpha_1=0.1, lambda_2=0.1)\n",
    "model.fit(X_train, y_train)\n",
    "y_pred = model.predict(X_test)\n",
    "r2 = r2_score(y_test, y_pred)\n",
    "print('r2: ', r2)\n",
    "mae = mean_absolute_error(y_test, y_pred)\n",
    "print('MAE: ', mae)"
   ]
  },
  {
   "cell_type": "code",
   "execution_count": null,
   "id": "094d603f",
   "metadata": {},
   "outputs": [],
   "source": []
  }
 ],
 "metadata": {
  "kernelspec": {
   "display_name": "Python 3 (ipykernel)",
   "language": "python",
   "name": "python3"
  },
  "language_info": {
   "codemirror_mode": {
    "name": "ipython",
    "version": 3
   },
   "file_extension": ".py",
   "mimetype": "text/x-python",
   "name": "python",
   "nbconvert_exporter": "python",
   "pygments_lexer": "ipython3",
   "version": "3.10.10"
  }
 },
 "nbformat": 4,
 "nbformat_minor": 5
}
