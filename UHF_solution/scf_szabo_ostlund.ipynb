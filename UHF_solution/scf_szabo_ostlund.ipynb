{
 "cells": [
  {
   "cell_type": "code",
   "execution_count": 1,
   "id": "2f79d002",
   "metadata": {},
   "outputs": [],
   "source": [
    "def overlap_matrix_diagonalize(matrix):\n",
    "    import numpy as np\n",
    "    matrix = np.array(matrix)\n",
    "    pass"
   ]
  },
  {
   "cell_type": "code",
   "execution_count": 5,
   "id": "b8f360b5",
   "metadata": {},
   "outputs": [],
   "source": [
    "import numpy as np\n",
    "mat = np.array([[2,5],[5,1]])\n",
    "eig_values = np.linalg.eigvals(mat)"
   ]
  },
  {
   "cell_type": "code",
   "execution_count": 6,
   "id": "7a8964cd",
   "metadata": {},
   "outputs": [
    {
     "name": "stdout",
     "output_type": "stream",
     "text": [
      "[ 6.52493781 -3.52493781]\n"
     ]
    }
   ],
   "source": [
    "print(eig_values)"
   ]
  },
  {
   "cell_type": "code",
   "execution_count": 7,
   "id": "fe8212f6",
   "metadata": {},
   "outputs": [
    {
     "data": {
      "text/plain": [
       "array([-3.52493781,  6.52493781])"
      ]
     },
     "execution_count": 7,
     "metadata": {},
     "output_type": "execute_result"
    }
   ],
   "source": [
    "np.linalg.eigvalsh(mat)"
   ]
  },
  {
   "cell_type": "code",
   "execution_count": null,
   "id": "d4262504",
   "metadata": {},
   "outputs": [],
   "source": []
  }
 ],
 "metadata": {
  "kernelspec": {
   "display_name": "Python 3 (ipykernel)",
   "language": "python",
   "name": "python3"
  },
  "language_info": {
   "codemirror_mode": {
    "name": "ipython",
    "version": 3
   },
   "file_extension": ".py",
   "mimetype": "text/x-python",
   "name": "python",
   "nbconvert_exporter": "python",
   "pygments_lexer": "ipython3",
   "version": "3.10.10"
  }
 },
 "nbformat": 4,
 "nbformat_minor": 5
}
