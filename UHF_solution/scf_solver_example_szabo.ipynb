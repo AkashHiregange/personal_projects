{
 "cells": [
  {
   "cell_type": "code",
   "execution_count": 1,
   "id": "e6faf456-9736-4810-a5fe-baf1045c4705",
   "metadata": {},
   "outputs": [],
   "source": [
    "import numpy as np"
   ]
  },
  {
   "cell_type": "code",
   "execution_count": 2,
   "id": "b71d1ce1-b3a8-4d27-b989-1e40d0477a0d",
   "metadata": {},
   "outputs": [
    {
     "name": "stdout",
     "output_type": "stream",
     "text": [
      "[[1.     0.4508]\n",
      " [0.4508 1.    ]]\n",
      "[[-2.6527 -1.3472]\n",
      " [-1.3472 -1.7318]]\n"
     ]
    }
   ],
   "source": [
    "S = np.array([[1, 0.4508],[0.4508,1]])\n",
    "print(S)\n",
    "H_core = np.array([[-2.6527, -1.3472],[-1.3472, -1.7318]])\n",
    "print(H_core)"
   ]
  },
  {
   "cell_type": "code",
   "execution_count": 3,
   "id": "f53f6a04-1c91-48ff-9ef3-81c864285333",
   "metadata": {},
   "outputs": [
    {
     "name": "stdout",
     "output_type": "stream",
     "text": [
      "0.7071067811865475\n"
     ]
    }
   ],
   "source": [
    "print(1/np.sqrt(2))"
   ]
  },
  {
   "cell_type": "code",
   "execution_count": 4,
   "id": "8bbabb0b-f0ff-4a7d-b722-6dda18722fe9",
   "metadata": {},
   "outputs": [],
   "source": [
    "U = np.array([[0.707, 0.707],[0.707, -0.707]])"
   ]
  },
  {
   "cell_type": "code",
   "execution_count": 5,
   "id": "5baaebd3-1964-44c7-8201-6035eb10a64e",
   "metadata": {},
   "outputs": [
    {
     "name": "stdout",
     "output_type": "stream",
     "text": [
      "[[ 0.70710678 -0.70710678]\n",
      " [ 0.70710678  0.70710678]]\n",
      "[[0.8302258  0.        ]\n",
      " [0.         1.34938145]]\n",
      "[[ 0.58705829 -0.95415677]\n",
      " [ 0.58705829  0.95415677]]\n"
     ]
    }
   ],
   "source": [
    "def create_unitary_from_overlap(overlap_matrix):\n",
    "    U = np.linalg.eig(overlap_matrix)[1]\n",
    "    return U\n",
    "\n",
    "def create_s_half(overlap_matrix, unitary_transformation):\n",
    "    s = np.round(unitary_transformation.T@overlap_matrix@unitary_transformation,4)\n",
    "    s_diagonal = 1/np.sqrt(np.diagonal(s))\n",
    "    s_half = np.diag(s_diagonal)\n",
    "    return s_half\n",
    "\n",
    "def canonical_transformation(unitary_transformation, s_half):\n",
    "    X_can = unitary_transformation@s_half\n",
    "    return X_can\n",
    "    \n",
    "U = create_unitary_from_overlap(S)\n",
    "print(U)\n",
    "s_half = create_s_half(S, U)\n",
    "print(s_half)\n",
    "X_can = canonical_transformation(U, s_half)\n",
    "print(X_can)"
   ]
  },
  {
   "cell_type": "markdown",
   "id": "745d05f3",
   "metadata": {},
   "source": [
    "## storing two-electron integrals forms a necessary part of the calculations. In case of real orbitals, inherent symmetry of the two electron integrals leads to a reduction in the number of in-equivalent integrals (see szabo ostlund example 3.14). Also, look at Yoshimine sorting on wikipedia to store the two electron integrals."
   ]
  },
  {
   "cell_type": "code",
   "execution_count": 6,
   "id": "818440f3",
   "metadata": {},
   "outputs": [
    {
     "name": "stdout",
     "output_type": "stream",
     "text": [
      "(2, 2, 2, 2)\n"
     ]
    }
   ],
   "source": [
    "## lets create an order 4 tensor to save the two electron integrals. NOTE: this might not be a memory efficient way to do it\n",
    "two_electron_integrals = np.zeros((2,2,2,2))\n",
    "print(two_electron_integrals.shape)"
   ]
  },
  {
   "cell_type": "code",
   "execution_count": 7,
   "id": "abb76d20",
   "metadata": {},
   "outputs": [],
   "source": [
    "two_electron_integrals[0,0,0,0] = 1.3072\n",
    "two_electron_integrals[1,1,1,1] = 0.7746\n",
    "two_electron_integrals[0,0,1,1] = 0.6057\n",
    "two_electron_integrals[1,1,0,0] = 0.6057\n",
    "two_electron_integrals[0,0,0,1] = 0.4373\n",
    "two_electron_integrals[0,0,1,0] = 0.4373\n",
    "two_electron_integrals[1,0,0,0] = 0.4373\n",
    "two_electron_integrals[0,1,0,0] = 0.4373\n",
    "\n",
    "two_electron_integrals[1,1,1,0] = 0.3118\n",
    "two_electron_integrals[1,1,0,1] = 0.3118\n",
    "two_electron_integrals[1,0,1,1] = 0.3118\n",
    "two_electron_integrals[0,1,1,1] = 0.3118\n",
    "two_electron_integrals[1,0,1,0] = 0.1773\n",
    "two_electron_integrals[1,0,0,1] = 0.1773\n",
    "two_electron_integrals[0,1,1,0] = 0.1773\n",
    "two_electron_integrals[0,1,0,1] = 0.1773"
   ]
  },
  {
   "cell_type": "code",
   "execution_count": 8,
   "id": "23be7701",
   "metadata": {},
   "outputs": [
    {
     "name": "stdout",
     "output_type": "stream",
     "text": [
      "[[[[1.3072 0.4373]\n",
      "   [0.4373 0.6057]]\n",
      "\n",
      "  [[0.4373 0.1773]\n",
      "   [0.1773 0.3118]]]\n",
      "\n",
      "\n",
      " [[[0.4373 0.1773]\n",
      "   [0.1773 0.3118]]\n",
      "\n",
      "  [[0.6057 0.3118]\n",
      "   [0.3118 0.7746]]]]\n"
     ]
    }
   ],
   "source": [
    "print(two_electron_integrals)"
   ]
  },
  {
   "cell_type": "code",
   "execution_count": 9,
   "id": "c18d7854-7fab-412e-b039-9f5f21c80b73",
   "metadata": {},
   "outputs": [],
   "source": [
    "##starting iterations"
   ]
  },
  {
   "cell_type": "code",
   "execution_count": 12,
   "id": "0f2406e7-f951-4586-8c99-b5e0f5b68ec6",
   "metadata": {},
   "outputs": [
    {
     "name": "stdout",
     "output_type": "stream",
     "text": [
      "P =  [[1.72671245 0.25976884]\n",
      " [0.25976884 0.03907996]]\n",
      "Total energy at step 1 = -4.141673308407317\n",
      "P =  [[1.3341882  0.51661004]\n",
      " [0.51661004 0.20003619]]\n",
      "Total energy at step 2 = -4.226327859264931\n",
      "P =  [[1.28989512 0.53837478]\n",
      " [0.53837478 0.22470618]]\n",
      "Total energy at step 3 = -4.227358288504301\n",
      "P =  [[1.2864205  0.54002298]\n",
      " [0.54002298 0.22669478]]\n",
      "Total energy at step 4 = -4.227364619125003\n",
      "P =  [[1.28615921 0.54014657]\n",
      " [0.54014657 0.22684464]]\n",
      "Total energy at step 5 = -4.227364654921209\n",
      "P =  [[1.28613963 0.54015584]\n",
      " [0.54015584 0.22685587]]\n",
      "Final Total energy = -4.227364655122287\n"
     ]
    }
   ],
   "source": [
    "# i = 1\n",
    "def solve_fock_equation(H_core, G, X_can):\n",
    "    F = H_core + G\n",
    "    F_dash = X_can.T@F@X_can\n",
    "    epsilon, C_dash = np.linalg.eig(F_dash)\n",
    "    epsilon = np.diag(epsilon)\n",
    "    C = X_can@C_dash\n",
    "    return C, epsilon, F\n",
    "\n",
    "def create_density_matrix_from_coefficients(C):\n",
    "    number_of_occupied_orbitals = int((C.shape[0])/2)\n",
    "    P = 2*C[:, :number_of_occupied_orbitals].reshape((-1,1))@C[:, :number_of_occupied_orbitals].reshape((1,-1))\n",
    "    return P\n",
    "\n",
    "def compute_G_matrix(H_core, P, two_electron_integrals):\n",
    "    G = np.zeros(F.shape)\n",
    "    for u in range(F.shape[0]):\n",
    "        for v in range(F.shape[1]):\n",
    "            temp_term = 0\n",
    "            for w in range(two_electron_integrals.shape[2]):\n",
    "                for x in range(two_electron_integrals.shape[3]):\n",
    "                    temp_term += P[w,x]*(two_electron_integrals[u,v,w,x]-(0.5*two_electron_integrals[u,x,w,v]))\n",
    "            G[u,v] = temp_term\n",
    "    return G\n",
    "    \n",
    "    \n",
    "def compute_total_energy(P, H_core, F):\n",
    "    E = 0.5*(np.sum(P.T*(H_core + F)))\n",
    "    return E\n",
    "    \n",
    "for i in range(1,7):\n",
    "    if i==1:\n",
    "        C, epsilon, F = solve_fock_equation(H_core, 0, X_can)\n",
    "        P = create_density_matrix_from_coefficients(C)\n",
    "        print('P = ', P)\n",
    "    else:\n",
    "        G = compute_G_matrix(H_core, P, two_electron_integrals)\n",
    "        C, epsilon, F = solve_fock_equation(H_core, G, X_can)\n",
    "        E = compute_total_energy(P, H_core, F)\n",
    "        print(f'Total energy at step {i-1} = {E}')\n",
    "        P = create_density_matrix_from_coefficients(C)\n",
    "        print('P = ', P)\n",
    "\n",
    "G = compute_G_matrix(H_core, P, two_electron_integrals)\n",
    "C, epsilon, F = solve_fock_equation(H_core, G, X_can)\n",
    "E = compute_total_energy(P, H_core, F)\n",
    "print(f'Final Total energy = {E}')"
   ]
  },
  {
   "cell_type": "code",
   "execution_count": null,
   "id": "534f42ce-822b-4974-817b-8a8d303f3784",
   "metadata": {},
   "outputs": [],
   "source": []
  }
 ],
 "metadata": {
  "kernelspec": {
   "display_name": "Python 3 (ipykernel)",
   "language": "python",
   "name": "python3"
  },
  "language_info": {
   "codemirror_mode": {
    "name": "ipython",
    "version": 3
   },
   "file_extension": ".py",
   "mimetype": "text/x-python",
   "name": "python",
   "nbconvert_exporter": "python",
   "pygments_lexer": "ipython3",
   "version": "3.10.10"
  }
 },
 "nbformat": 4,
 "nbformat_minor": 5
}
