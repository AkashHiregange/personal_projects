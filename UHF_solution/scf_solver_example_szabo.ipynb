{
 "cells": [
  {
   "cell_type": "code",
   "execution_count": 1,
   "id": "e6faf456-9736-4810-a5fe-baf1045c4705",
   "metadata": {},
   "outputs": [],
   "source": [
    "import numpy as np"
   ]
  },
  {
   "cell_type": "code",
   "execution_count": 2,
   "id": "b71d1ce1-b3a8-4d27-b989-1e40d0477a0d",
   "metadata": {},
   "outputs": [
    {
     "name": "stdout",
     "output_type": "stream",
     "text": [
      "[[1.     0.4508]\n",
      " [0.4508 1.    ]]\n",
      "[[-2.6527 -1.3472]\n",
      " [-1.3472 -1.7318]]\n"
     ]
    }
   ],
   "source": [
    "S = np.array([[1, 0.4508],[0.4508,1]])\n",
    "print(S)\n",
    "H_core = np.array([[-2.6527, -1.3472],[-1.3472, -1.7318]])\n",
    "print(H_core)"
   ]
  },
  {
   "cell_type": "code",
   "execution_count": 3,
   "id": "f53f6a04-1c91-48ff-9ef3-81c864285333",
   "metadata": {},
   "outputs": [
    {
     "name": "stdout",
     "output_type": "stream",
     "text": [
      "0.7071067811865475\n"
     ]
    }
   ],
   "source": [
    "print(1/np.sqrt(2))"
   ]
  },
  {
   "cell_type": "code",
   "execution_count": 4,
   "id": "8bbabb0b-f0ff-4a7d-b722-6dda18722fe9",
   "metadata": {},
   "outputs": [],
   "source": [
    "U = np.array([[0.707, 0.707],[0.707, -0.707]])"
   ]
  },
  {
   "cell_type": "code",
   "execution_count": 5,
   "id": "ab919dbe-2389-4891-a036-6a3a7911d96c",
   "metadata": {},
   "outputs": [
    {
     "name": "stdout",
     "output_type": "stream",
     "text": [
      "EigResult(eigenvalues=array([1.4508, 0.5492]), eigenvectors=array([[ 0.70710678, -0.70710678],\n",
      "       [ 0.70710678,  0.70710678]]))\n"
     ]
    }
   ],
   "source": [
    "print(np.linalg.eig(S))"
   ]
  },
  {
   "cell_type": "code",
   "execution_count": 6,
   "id": "5625f063-ef0b-4243-9a7b-538781eac7de",
   "metadata": {},
   "outputs": [
    {
     "name": "stdout",
     "output_type": "stream",
     "text": [
      "[[ 1.02587052 -0.38834304]\n",
      " [ 1.02587052  0.38834304]]\n"
     ]
    }
   ],
   "source": [
    "print(S@(np.linalg.eig(S)[1]))"
   ]
  },
  {
   "cell_type": "code",
   "execution_count": 7,
   "id": "5baaebd3-1964-44c7-8201-6035eb10a64e",
   "metadata": {},
   "outputs": [
    {
     "name": "stdout",
     "output_type": "stream",
     "text": [
      "[[ 0.70710678 -0.70710678]\n",
      " [ 0.70710678  0.70710678]]\n"
     ]
    }
   ],
   "source": [
    "U = np.linalg.eig(S)[1]\n",
    "print(U)"
   ]
  },
  {
   "cell_type": "code",
   "execution_count": 8,
   "id": "4d1c6222-1572-4254-b6d8-f765b3d590c1",
   "metadata": {},
   "outputs": [
    {
     "name": "stdout",
     "output_type": "stream",
     "text": [
      "[1.4508 0.5492]\n",
      "[0.8302258  1.34938145]\n",
      "[[0.8302258  0.        ]\n",
      " [0.         1.34938145]]\n"
     ]
    }
   ],
   "source": [
    "s = np.round(U.T@S@U,4)\n",
    "print(np.diagonal(s))\n",
    "s_diagonal = 1/np.sqrt(np.diagonal(s))\n",
    "print(s_diagonal)\n",
    "s_half = np.diag(s_diagonal)\n",
    "print(s_half)"
   ]
  },
  {
   "cell_type": "code",
   "execution_count": 9,
   "id": "eeb03f86-0ad4-4195-872f-a0877b23f1df",
   "metadata": {},
   "outputs": [],
   "source": [
    "X_can = U@s_half"
   ]
  },
  {
   "cell_type": "code",
   "execution_count": 10,
   "id": "840a3f63-8b1c-4f17-a289-4bf44dd3888e",
   "metadata": {},
   "outputs": [
    {
     "name": "stdout",
     "output_type": "stream",
     "text": [
      "[[ 0.58705829 -0.95415677]\n",
      " [ 0.58705829  0.95415677]]\n"
     ]
    }
   ],
   "source": [
    "X_can\n",
    "print(X_can)"
   ]
  },
  {
   "cell_type": "code",
   "execution_count": 21,
   "id": "7fa1ef9a",
   "metadata": {},
   "outputs": [
    {
     "name": "stdout",
     "output_type": "stream",
     "text": [
      "[[ 0.5871  0.9541]\n",
      " [ 0.5871 -0.9541]]\n"
     ]
    }
   ],
   "source": [
    "X_can = np.array([[0.5871,0.9541], [0.5871, -0.9541]])\n",
    "print(X_can)"
   ]
  },
  {
   "cell_type": "markdown",
   "id": "745d05f3",
   "metadata": {},
   "source": [
    "## storing two-electron integrals forms a necessary part of the calculations. In case of real orbitals, inherent symmetry of the two electron integrals leads to a reduction in the number of in-equivalent integrals (see szabo ostlund example 3.14). Also, look at Yoshimine sorting on wikipedia to store the two electron integrals."
   ]
  },
  {
   "cell_type": "code",
   "execution_count": 22,
   "id": "818440f3",
   "metadata": {},
   "outputs": [
    {
     "name": "stdout",
     "output_type": "stream",
     "text": [
      "(2, 2, 2, 2)\n"
     ]
    }
   ],
   "source": [
    "## lets create an order 4 tensor to save the two electron integrals. NOTE: this might not be a memory efficient way to do it\n",
    "two_electron_integrals = np.zeros((2,2,2,2))\n",
    "print(two_electron_integrals.shape)"
   ]
  },
  {
   "cell_type": "code",
   "execution_count": 23,
   "id": "abb76d20",
   "metadata": {},
   "outputs": [],
   "source": [
    "two_electron_integrals[0,0,0,0] = 1.3072\n",
    "two_electron_integrals[1,1,1,1] = 0.7746\n",
    "two_electron_integrals[0,0,1,1] = 0.6057\n",
    "two_electron_integrals[1,1,0,0] = 0.6057\n",
    "two_electron_integrals[0,0,0,1] = 0.4373\n",
    "two_electron_integrals[0,0,1,0] = 0.4373\n",
    "two_electron_integrals[1,0,0,0] = 0.4373\n",
    "two_electron_integrals[0,1,0,0] = 0.4373\n",
    "\n",
    "two_electron_integrals[1,1,1,0] = 0.3118\n",
    "two_electron_integrals[1,1,0,1] = 0.3118\n",
    "two_electron_integrals[1,0,1,1] = 0.3118\n",
    "two_electron_integrals[0,1,1,1] = 0.3118\n",
    "two_electron_integrals[1,0,1,0] = 0.1773\n",
    "two_electron_integrals[1,0,0,1] = 0.1773\n",
    "two_electron_integrals[0,1,1,0] = 0.1773\n",
    "two_electron_integrals[0,1,0,1] = 0.1773"
   ]
  },
  {
   "cell_type": "code",
   "execution_count": 24,
   "id": "23be7701",
   "metadata": {},
   "outputs": [
    {
     "name": "stdout",
     "output_type": "stream",
     "text": [
      "[[[[1.3072 0.4373]\n",
      "   [0.4373 0.6057]]\n",
      "\n",
      "  [[0.4373 0.1773]\n",
      "   [0.1773 0.3118]]]\n",
      "\n",
      "\n",
      " [[[0.4373 0.1773]\n",
      "   [0.1773 0.3118]]\n",
      "\n",
      "  [[0.6057 0.3118]\n",
      "   [0.3118 0.7746]]]]\n"
     ]
    }
   ],
   "source": [
    "print(two_electron_integrals)"
   ]
  },
  {
   "cell_type": "code",
   "execution_count": 25,
   "id": "c18d7854-7fab-412e-b039-9f5f21c80b73",
   "metadata": {},
   "outputs": [],
   "source": [
    "##starting iterations"
   ]
  },
  {
   "cell_type": "code",
   "execution_count": 27,
   "id": "0f2406e7-f951-4586-8c99-b5e0f5b68ec6",
   "metadata": {},
   "outputs": [
    {
     "name": "stdout",
     "output_type": "stream",
     "text": [
      "G =  [[3.75371284 1.34489295]\n",
      " [1.34489295 1.48765055]]\n",
      "G =  [[1.28575598 0.88070652]\n",
      " [0.88070652 2.33695477]]\n",
      "G =  [[3.98143817 1.28367347]\n",
      " [1.28367347 1.34320049]]\n",
      "G =  [[1.30380434 0.89138757]\n",
      " [0.89138757 2.33537131]]\n",
      "G =  [[3.98273322 1.28276093]\n",
      " [1.28276093 1.34202057]]\n"
     ]
    }
   ],
   "source": [
    "# i = 1\n",
    "for i in range(1,7):\n",
    "    if i==1:\n",
    "        F = H_core\n",
    "        F_dash = X_can.T@F@X_can\n",
    "#         print(F_dash)\n",
    "        epsilon, C_dash = np.linalg.eig(F_dash)\n",
    "        epsilon = np.diag(epsilon)\n",
    "#         print(C_dash)\n",
    "#         print(epsilon)\n",
    "        C = X_can@C_dash\n",
    "        number_of_occupied_orbitals = int((C.shape[0])/2)\n",
    "        P = 2*C[:, :number_of_occupied_orbitals].reshape((-1,1))@C[:, :number_of_occupied_orbitals].reshape((1,-1))\n",
    "#         print(P)\n",
    "    else:\n",
    "        G = np.zeros(F.shape)\n",
    "        for u in range(F.shape[0]):\n",
    "            for v in range(F.shape[1]):\n",
    "                temp_term = 0\n",
    "                for w in range(two_electron_integrals.shape[2]):\n",
    "                    for x in range(two_electron_integrals.shape[3]):\n",
    "                        temp_term += P[w,x]*(two_electron_integrals[u,v,w,x]+(0.5*two_electron_integrals[u,x,w,v]))\n",
    "                G[u,v] = temp_term\n",
    "        F = H_core + G\n",
    "        print('G = ',G)\n",
    "        F_dash = X_can.T@F@X_can\n",
    "#         print(F_dash)\n",
    "        epsilon, C_dash = np.linalg.eig(F_dash)\n",
    "        epsilon = np.diag(epsilon)\n",
    "#         print(C_dash)\n",
    "#         print(epsilon)\n",
    "        C = X_can@C_dash\n",
    "        number_of_occupied_orbitals = int((C.shape[0])/2)\n",
    "        P = 2*C[:, :number_of_occupied_orbitals].reshape((-1,1))@C[:, :number_of_occupied_orbitals].reshape((1,-1))\n",
    "#         print(P)\n",
    "        "
   ]
  },
  {
   "cell_type": "code",
   "execution_count": null,
   "id": "534f42ce-822b-4974-817b-8a8d303f3784",
   "metadata": {},
   "outputs": [],
   "source": []
  }
 ],
 "metadata": {
  "kernelspec": {
   "display_name": "Python 3 (ipykernel)",
   "language": "python",
   "name": "python3"
  },
  "language_info": {
   "codemirror_mode": {
    "name": "ipython",
    "version": 3
   },
   "file_extension": ".py",
   "mimetype": "text/x-python",
   "name": "python",
   "nbconvert_exporter": "python",
   "pygments_lexer": "ipython3",
   "version": "3.10.10"
  }
 },
 "nbformat": 4,
 "nbformat_minor": 5
}
